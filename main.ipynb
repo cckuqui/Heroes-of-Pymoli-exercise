{
 "cells": [
  {
   "cell_type": "markdown",
   "metadata": {},
   "source": [
    "# Gaming Data"
   ]
  },
  {
   "cell_type": "markdown",
   "metadata": {},
   "source": [
    "## Loading data"
   ]
  },
  {
   "cell_type": "code",
   "execution_count": 1,
   "metadata": {},
   "outputs": [],
   "source": [
    "# Dependencies and Setup\n",
    "import pandas as pd\n",
    "import numpy as np "
   ]
  },
  {
   "cell_type": "code",
   "execution_count": 2,
   "metadata": {},
   "outputs": [],
   "source": [
    "# Read Purchasing File and store into Pandas data frame\n",
    "purchase_data = pd.read_csv('Resources/purchase_data.csv')"
   ]
  },
  {
   "cell_type": "markdown",
   "metadata": {},
   "source": [
    "## Exploration"
   ]
  },
  {
   "cell_type": "markdown",
   "metadata": {},
   "source": [
    "### Total number of players"
   ]
  },
  {
   "cell_type": "code",
   "execution_count": 3,
   "metadata": {},
   "outputs": [
    {
     "output_type": "execute_result",
     "data": {
      "text/plain": "   Count of players\n0               576",
      "text/html": "<div>\n<style scoped>\n    .dataframe tbody tr th:only-of-type {\n        vertical-align: middle;\n    }\n\n    .dataframe tbody tr th {\n        vertical-align: top;\n    }\n\n    .dataframe thead th {\n        text-align: right;\n    }\n</style>\n<table border=\"1\" class=\"dataframe\">\n  <thead>\n    <tr style=\"text-align: right;\">\n      <th></th>\n      <th>Count of players</th>\n    </tr>\n  </thead>\n  <tbody>\n    <tr>\n      <th>0</th>\n      <td>576</td>\n    </tr>\n  </tbody>\n</table>\n</div>"
     },
     "metadata": {},
     "execution_count": 3
    }
   ],
   "source": [
    "# Count unique players\n",
    "player_count = purchase_data['SN'].nunique()\n",
    "\n",
    "pd.DataFrame({'Count of players':[player_count]})"
   ]
  },
  {
   "cell_type": "markdown",
   "metadata": {},
   "source": [
    "### Demographics by Gender"
   ]
  },
  {
   "cell_type": "code",
   "execution_count": 4,
   "metadata": {},
   "outputs": [],
   "source": [
    "# Group by gender and count them\n",
    "gender_group = purchase_data.groupby(['Gender'])\n",
    "count_gender = gender_group['SN'].nunique()\n",
    "percentage_players = count_gender/player_count"
   ]
  },
  {
   "cell_type": "code",
   "execution_count": 5,
   "metadata": {},
   "outputs": [],
   "source": [
    "# Create data frame\n",
    "gender_demographics = pd.DataFrame({\n",
    "    'Total Count': count_gender, \n",
    "    'Percentage of Players': percentage_players\n",
    "})"
   ]
  },
  {
   "cell_type": "code",
   "execution_count": 6,
   "metadata": {},
   "outputs": [
    {
     "output_type": "execute_result",
     "data": {
      "text/plain": "<pandas.io.formats.style.Styler at 0x13cac346fd0>",
      "text/html": "<style  type=\"text/css\" >\n</style><table id=\"T_a50ae111_bf50_11ea_a09c_ac84a674227d\" ><thead>    <tr>        <th class=\"blank level0\" ></th>        <th class=\"col_heading level0 col0\" >Total Count</th>        <th class=\"col_heading level0 col1\" >Percentage of Players</th>    </tr>    <tr>        <th class=\"index_name level0\" >Gender</th>        <th class=\"blank\" ></th>        <th class=\"blank\" ></th>    </tr></thead><tbody>\n                <tr>\n                        <th id=\"T_a50ae111_bf50_11ea_a09c_ac84a674227dlevel0_row0\" class=\"row_heading level0 row0\" >Male</th>\n                        <td id=\"T_a50ae111_bf50_11ea_a09c_ac84a674227drow0_col0\" class=\"data row0 col0\" >484</td>\n                        <td id=\"T_a50ae111_bf50_11ea_a09c_ac84a674227drow0_col1\" class=\"data row0 col1\" >84.03%</td>\n            </tr>\n            <tr>\n                        <th id=\"T_a50ae111_bf50_11ea_a09c_ac84a674227dlevel0_row1\" class=\"row_heading level0 row1\" >Female</th>\n                        <td id=\"T_a50ae111_bf50_11ea_a09c_ac84a674227drow1_col0\" class=\"data row1 col0\" >81</td>\n                        <td id=\"T_a50ae111_bf50_11ea_a09c_ac84a674227drow1_col1\" class=\"data row1 col1\" >14.06%</td>\n            </tr>\n            <tr>\n                        <th id=\"T_a50ae111_bf50_11ea_a09c_ac84a674227dlevel0_row2\" class=\"row_heading level0 row2\" >Other / Non-Disclosed</th>\n                        <td id=\"T_a50ae111_bf50_11ea_a09c_ac84a674227drow2_col0\" class=\"data row2 col0\" >11</td>\n                        <td id=\"T_a50ae111_bf50_11ea_a09c_ac84a674227drow2_col1\" class=\"data row2 col1\" >1.91%</td>\n            </tr>\n    </tbody></table>"
     },
     "metadata": {},
     "execution_count": 6
    }
   ],
   "source": [
    "# Results\n",
    "gender_demographics.sort_values(by=['Total Count'],ascending=False).style.format({'Percentage of Players':'{:.2%}'})"
   ]
  },
  {
   "cell_type": "markdown",
   "metadata": {},
   "source": [
    "### Demographics by Age"
   ]
  },
  {
   "cell_type": "code",
   "execution_count": 7,
   "metadata": {},
   "outputs": [],
   "source": [
    "# Create bins and labels\n",
    "age_bins = [0,9,14,19,24,29,34,39,np.inf]\n",
    "age_labels=['<10','10-14','15-19','20-24','25-29','30-34','35-39','40+']"
   ]
  },
  {
   "cell_type": "code",
   "execution_count": 8,
   "metadata": {},
   "outputs": [],
   "source": [
    "# Categorize players with age bins and add column into dataframe\n",
    "age_demographics = pd.cut(purchase_data['Age'],bins=age_bins,labels=age_labels)\n",
    "purchase_data['Age Group'] = age_demographics"
   ]
  },
  {
   "cell_type": "code",
   "execution_count": 9,
   "metadata": {},
   "outputs": [],
   "source": [
    "# Group by age groups and count them\n",
    "ages_group = purchase_data.groupby(['Age Group'])\n",
    "count_ages = ages_group['SN'].nunique()\n",
    "percentage_ages = count_ages/player_count"
   ]
  },
  {
   "cell_type": "code",
   "execution_count": 10,
   "metadata": {},
   "outputs": [],
   "source": [
    "# Create data frames\n",
    "age_demographics = pd.DataFrame({\n",
    "    'Total Count':count_ages, \n",
    "    'Percentage of Players':percentage_ages\n",
    "})"
   ]
  },
  {
   "cell_type": "code",
   "execution_count": 11,
   "metadata": {},
   "outputs": [
    {
     "output_type": "execute_result",
     "data": {
      "text/plain": "<pandas.io.formats.style.Styler at 0x13cac598b20>",
      "text/html": "<style  type=\"text/css\" >\n</style><table id=\"T_a558d5e4_bf50_11ea_8065_ac84a674227d\" ><thead>    <tr>        <th class=\"blank level0\" ></th>        <th class=\"col_heading level0 col0\" >Total Count</th>        <th class=\"col_heading level0 col1\" >Percentage of Players</th>    </tr>    <tr>        <th class=\"index_name level0\" >Age Group</th>        <th class=\"blank\" ></th>        <th class=\"blank\" ></th>    </tr></thead><tbody>\n                <tr>\n                        <th id=\"T_a558d5e4_bf50_11ea_8065_ac84a674227dlevel0_row0\" class=\"row_heading level0 row0\" ><10</th>\n                        <td id=\"T_a558d5e4_bf50_11ea_8065_ac84a674227drow0_col0\" class=\"data row0 col0\" >17</td>\n                        <td id=\"T_a558d5e4_bf50_11ea_8065_ac84a674227drow0_col1\" class=\"data row0 col1\" >2.95%</td>\n            </tr>\n            <tr>\n                        <th id=\"T_a558d5e4_bf50_11ea_8065_ac84a674227dlevel0_row1\" class=\"row_heading level0 row1\" >10-14</th>\n                        <td id=\"T_a558d5e4_bf50_11ea_8065_ac84a674227drow1_col0\" class=\"data row1 col0\" >22</td>\n                        <td id=\"T_a558d5e4_bf50_11ea_8065_ac84a674227drow1_col1\" class=\"data row1 col1\" >3.82%</td>\n            </tr>\n            <tr>\n                        <th id=\"T_a558d5e4_bf50_11ea_8065_ac84a674227dlevel0_row2\" class=\"row_heading level0 row2\" >15-19</th>\n                        <td id=\"T_a558d5e4_bf50_11ea_8065_ac84a674227drow2_col0\" class=\"data row2 col0\" >107</td>\n                        <td id=\"T_a558d5e4_bf50_11ea_8065_ac84a674227drow2_col1\" class=\"data row2 col1\" >18.58%</td>\n            </tr>\n            <tr>\n                        <th id=\"T_a558d5e4_bf50_11ea_8065_ac84a674227dlevel0_row3\" class=\"row_heading level0 row3\" >20-24</th>\n                        <td id=\"T_a558d5e4_bf50_11ea_8065_ac84a674227drow3_col0\" class=\"data row3 col0\" >258</td>\n                        <td id=\"T_a558d5e4_bf50_11ea_8065_ac84a674227drow3_col1\" class=\"data row3 col1\" >44.79%</td>\n            </tr>\n            <tr>\n                        <th id=\"T_a558d5e4_bf50_11ea_8065_ac84a674227dlevel0_row4\" class=\"row_heading level0 row4\" >25-29</th>\n                        <td id=\"T_a558d5e4_bf50_11ea_8065_ac84a674227drow4_col0\" class=\"data row4 col0\" >77</td>\n                        <td id=\"T_a558d5e4_bf50_11ea_8065_ac84a674227drow4_col1\" class=\"data row4 col1\" >13.37%</td>\n            </tr>\n            <tr>\n                        <th id=\"T_a558d5e4_bf50_11ea_8065_ac84a674227dlevel0_row5\" class=\"row_heading level0 row5\" >30-34</th>\n                        <td id=\"T_a558d5e4_bf50_11ea_8065_ac84a674227drow5_col0\" class=\"data row5 col0\" >52</td>\n                        <td id=\"T_a558d5e4_bf50_11ea_8065_ac84a674227drow5_col1\" class=\"data row5 col1\" >9.03%</td>\n            </tr>\n            <tr>\n                        <th id=\"T_a558d5e4_bf50_11ea_8065_ac84a674227dlevel0_row6\" class=\"row_heading level0 row6\" >35-39</th>\n                        <td id=\"T_a558d5e4_bf50_11ea_8065_ac84a674227drow6_col0\" class=\"data row6 col0\" >31</td>\n                        <td id=\"T_a558d5e4_bf50_11ea_8065_ac84a674227drow6_col1\" class=\"data row6 col1\" >5.38%</td>\n            </tr>\n            <tr>\n                        <th id=\"T_a558d5e4_bf50_11ea_8065_ac84a674227dlevel0_row7\" class=\"row_heading level0 row7\" >40+</th>\n                        <td id=\"T_a558d5e4_bf50_11ea_8065_ac84a674227drow7_col0\" class=\"data row7 col0\" >12</td>\n                        <td id=\"T_a558d5e4_bf50_11ea_8065_ac84a674227drow7_col1\" class=\"data row7 col1\" >2.08%</td>\n            </tr>\n    </tbody></table>"
     },
     "metadata": {},
     "execution_count": 11
    }
   ],
   "source": [
    "# Results\n",
    "age_demographics.style.format({'Percentage of Players':'{:.2%}'})"
   ]
  },
  {
   "cell_type": "markdown",
   "metadata": {},
   "source": [
    "## Purchasing Analysis"
   ]
  },
  {
   "cell_type": "markdown",
   "metadata": {},
   "source": [
    "### General Analysis"
   ]
  },
  {
   "cell_type": "code",
   "execution_count": 12,
   "metadata": {},
   "outputs": [],
   "source": [
    "# Basic calculation to obtain unique items, average price, number of purchases and total revenue\n",
    "total_items = purchase_data['Item ID'].nunique()\n",
    "ave_price = purchase_data['Price'].mean()\n",
    "count_purchase = purchase_data['Purchase ID'].nunique()\n",
    "total_revenue = purchase_data['Price'].sum()"
   ]
  },
  {
   "cell_type": "code",
   "execution_count": 13,
   "metadata": {},
   "outputs": [],
   "source": [
    "# Create DataFrame to present the information\n",
    "general_analysis = pd.DataFrame({\n",
    "    'Number of Unique Items':[total_items],\n",
    "    'Average Price':[ave_price],\n",
    "    'Number of Purchases':[count_purchase],\n",
    "    'Total Revenue':[total_revenue]\n",
    "})"
   ]
  },
  {
   "cell_type": "code",
   "execution_count": 14,
   "metadata": {},
   "outputs": [
    {
     "output_type": "execute_result",
     "data": {
      "text/plain": "<pandas.io.formats.style.Styler at 0x13cac56daf0>",
      "text/html": "<style  type=\"text/css\" >\n</style><table id=\"T_a591af60_bf50_11ea_9437_ac84a674227d\" ><thead>    <tr>        <th class=\"blank level0\" ></th>        <th class=\"col_heading level0 col0\" >Number of Unique Items</th>        <th class=\"col_heading level0 col1\" >Average Price</th>        <th class=\"col_heading level0 col2\" >Number of Purchases</th>        <th class=\"col_heading level0 col3\" >Total Revenue</th>    </tr></thead><tbody>\n                <tr>\n                        <th id=\"T_a591af60_bf50_11ea_9437_ac84a674227dlevel0_row0\" class=\"row_heading level0 row0\" >0</th>\n                        <td id=\"T_a591af60_bf50_11ea_9437_ac84a674227drow0_col0\" class=\"data row0 col0\" >183</td>\n                        <td id=\"T_a591af60_bf50_11ea_9437_ac84a674227drow0_col1\" class=\"data row0 col1\" >$3.05</td>\n                        <td id=\"T_a591af60_bf50_11ea_9437_ac84a674227drow0_col2\" class=\"data row0 col2\" >780</td>\n                        <td id=\"T_a591af60_bf50_11ea_9437_ac84a674227drow0_col3\" class=\"data row0 col3\" >$2,379.77</td>\n            </tr>\n    </tbody></table>"
     },
     "metadata": {},
     "execution_count": 14
    }
   ],
   "source": [
    "# Results\n",
    "general_analysis.style.format({'Average Price':'${:.2f}','Total Revenue':'${:,.2f}'})"
   ]
  },
  {
   "cell_type": "markdown",
   "metadata": {},
   "source": [
    "### Analysis by Gender"
   ]
  },
  {
   "cell_type": "code",
   "execution_count": 15,
   "metadata": {},
   "outputs": [],
   "source": [
    "# Basic calculation to obtain purchase count, average purchase price, total purchase value and average total purchase by gender\n",
    "gender_purchase_count = gender_group['Purchase ID'].nunique()\n",
    "gender_ave_price = gender_group['Price'].mean()\n",
    "gender_total_revenue = gender_group['Price'].sum()\n",
    "gender_ave_revenue = gender_total_revenue/count_gender"
   ]
  },
  {
   "cell_type": "code",
   "execution_count": 16,
   "metadata": {},
   "outputs": [],
   "source": [
    "# Create dataframe to display information\n",
    "gender_analysis = pd.DataFrame({\n",
    "    'Purchase Count':gender_purchase_count,\n",
    "    'Average Purchase Price':gender_ave_price,\n",
    "    'Total Purchase Value':gender_total_revenue,\n",
    "    'Avg Total Purchase per Person':gender_ave_revenue\n",
    "})"
   ]
  },
  {
   "cell_type": "code",
   "execution_count": 17,
   "metadata": {},
   "outputs": [
    {
     "output_type": "execute_result",
     "data": {
      "text/plain": "<pandas.io.formats.style.Styler at 0x13cac598eb0>",
      "text/html": "<style  type=\"text/css\" >\n</style><table id=\"T_a5c547b8_bf50_11ea_b0cd_ac84a674227d\" ><thead>    <tr>        <th class=\"blank level0\" ></th>        <th class=\"col_heading level0 col0\" >Purchase Count</th>        <th class=\"col_heading level0 col1\" >Average Purchase Price</th>        <th class=\"col_heading level0 col2\" >Total Purchase Value</th>        <th class=\"col_heading level0 col3\" >Avg Total Purchase per Person</th>    </tr>    <tr>        <th class=\"index_name level0\" >Gender</th>        <th class=\"blank\" ></th>        <th class=\"blank\" ></th>        <th class=\"blank\" ></th>        <th class=\"blank\" ></th>    </tr></thead><tbody>\n                <tr>\n                        <th id=\"T_a5c547b8_bf50_11ea_b0cd_ac84a674227dlevel0_row0\" class=\"row_heading level0 row0\" >Male</th>\n                        <td id=\"T_a5c547b8_bf50_11ea_b0cd_ac84a674227drow0_col0\" class=\"data row0 col0\" >652</td>\n                        <td id=\"T_a5c547b8_bf50_11ea_b0cd_ac84a674227drow0_col1\" class=\"data row0 col1\" >$3.02</td>\n                        <td id=\"T_a5c547b8_bf50_11ea_b0cd_ac84a674227drow0_col2\" class=\"data row0 col2\" >$1,967.64</td>\n                        <td id=\"T_a5c547b8_bf50_11ea_b0cd_ac84a674227drow0_col3\" class=\"data row0 col3\" >$4.07</td>\n            </tr>\n            <tr>\n                        <th id=\"T_a5c547b8_bf50_11ea_b0cd_ac84a674227dlevel0_row1\" class=\"row_heading level0 row1\" >Female</th>\n                        <td id=\"T_a5c547b8_bf50_11ea_b0cd_ac84a674227drow1_col0\" class=\"data row1 col0\" >113</td>\n                        <td id=\"T_a5c547b8_bf50_11ea_b0cd_ac84a674227drow1_col1\" class=\"data row1 col1\" >$3.20</td>\n                        <td id=\"T_a5c547b8_bf50_11ea_b0cd_ac84a674227drow1_col2\" class=\"data row1 col2\" >$361.94</td>\n                        <td id=\"T_a5c547b8_bf50_11ea_b0cd_ac84a674227drow1_col3\" class=\"data row1 col3\" >$4.47</td>\n            </tr>\n            <tr>\n                        <th id=\"T_a5c547b8_bf50_11ea_b0cd_ac84a674227dlevel0_row2\" class=\"row_heading level0 row2\" >Other / Non-Disclosed</th>\n                        <td id=\"T_a5c547b8_bf50_11ea_b0cd_ac84a674227drow2_col0\" class=\"data row2 col0\" >15</td>\n                        <td id=\"T_a5c547b8_bf50_11ea_b0cd_ac84a674227drow2_col1\" class=\"data row2 col1\" >$3.35</td>\n                        <td id=\"T_a5c547b8_bf50_11ea_b0cd_ac84a674227drow2_col2\" class=\"data row2 col2\" >$50.19</td>\n                        <td id=\"T_a5c547b8_bf50_11ea_b0cd_ac84a674227drow2_col3\" class=\"data row2 col3\" >$4.56</td>\n            </tr>\n    </tbody></table>"
     },
     "metadata": {},
     "execution_count": 17
    }
   ],
   "source": [
    "# Results\n",
    "gender_analysis.sort_values(by=['Purchase Count'],ascending=False).style.format({'Average Purchase Price':'${:.2f}','Total Purchase Value':'${:,.2f}','Avg Total Purchase per Person':'${:.2f}'})"
   ]
  },
  {
   "cell_type": "markdown",
   "metadata": {},
   "source": [
    "### Analysis by Age"
   ]
  },
  {
   "cell_type": "code",
   "execution_count": 18,
   "metadata": {},
   "outputs": [],
   "source": [
    "# Basic calculation to obtain purchase count, average purchase price, total purchase value and average total purchase by age\n",
    "age_purchase_count = ages_group['Purchase ID'].nunique()\n",
    "age_ave_price = ages_group['Price'].mean()\n",
    "age_total_revenue = ages_group['Price'].sum()\n",
    "age_ave_revenue = age_total_revenue/count_ages"
   ]
  },
  {
   "cell_type": "code",
   "execution_count": 19,
   "metadata": {},
   "outputs": [],
   "source": [
    "# Create dataframe\n",
    "age_analysis = pd.DataFrame({\n",
    "    'Purchase Count':age_purchase_count, \n",
    "    'Average Purchase Price': age_ave_price, \n",
    "    'Total Purchase Value':age_total_revenue,\n",
    "    'Avg Total Purchase per Person':age_ave_revenue\n",
    "})"
   ]
  },
  {
   "cell_type": "code",
   "execution_count": 20,
   "metadata": {},
   "outputs": [
    {
     "output_type": "execute_result",
     "data": {
      "text/plain": "<pandas.io.formats.style.Styler at 0x13cac842640>",
      "text/html": "<style  type=\"text/css\" >\n</style><table id=\"T_a5fbf84d_bf50_11ea_bb3c_ac84a674227d\" ><thead>    <tr>        <th class=\"blank level0\" ></th>        <th class=\"col_heading level0 col0\" >Purchase Count</th>        <th class=\"col_heading level0 col1\" >Average Purchase Price</th>        <th class=\"col_heading level0 col2\" >Total Purchase Value</th>        <th class=\"col_heading level0 col3\" >Avg Total Purchase per Person</th>    </tr>    <tr>        <th class=\"index_name level0\" >Age Group</th>        <th class=\"blank\" ></th>        <th class=\"blank\" ></th>        <th class=\"blank\" ></th>        <th class=\"blank\" ></th>    </tr></thead><tbody>\n                <tr>\n                        <th id=\"T_a5fbf84d_bf50_11ea_bb3c_ac84a674227dlevel0_row0\" class=\"row_heading level0 row0\" ><10</th>\n                        <td id=\"T_a5fbf84d_bf50_11ea_bb3c_ac84a674227drow0_col0\" class=\"data row0 col0\" >23</td>\n                        <td id=\"T_a5fbf84d_bf50_11ea_bb3c_ac84a674227drow0_col1\" class=\"data row0 col1\" >$3.35</td>\n                        <td id=\"T_a5fbf84d_bf50_11ea_bb3c_ac84a674227drow0_col2\" class=\"data row0 col2\" >$77.13</td>\n                        <td id=\"T_a5fbf84d_bf50_11ea_bb3c_ac84a674227drow0_col3\" class=\"data row0 col3\" >$4.54</td>\n            </tr>\n            <tr>\n                        <th id=\"T_a5fbf84d_bf50_11ea_bb3c_ac84a674227dlevel0_row1\" class=\"row_heading level0 row1\" >10-14</th>\n                        <td id=\"T_a5fbf84d_bf50_11ea_bb3c_ac84a674227drow1_col0\" class=\"data row1 col0\" >28</td>\n                        <td id=\"T_a5fbf84d_bf50_11ea_bb3c_ac84a674227drow1_col1\" class=\"data row1 col1\" >$2.96</td>\n                        <td id=\"T_a5fbf84d_bf50_11ea_bb3c_ac84a674227drow1_col2\" class=\"data row1 col2\" >$82.78</td>\n                        <td id=\"T_a5fbf84d_bf50_11ea_bb3c_ac84a674227drow1_col3\" class=\"data row1 col3\" >$3.76</td>\n            </tr>\n            <tr>\n                        <th id=\"T_a5fbf84d_bf50_11ea_bb3c_ac84a674227dlevel0_row2\" class=\"row_heading level0 row2\" >15-19</th>\n                        <td id=\"T_a5fbf84d_bf50_11ea_bb3c_ac84a674227drow2_col0\" class=\"data row2 col0\" >136</td>\n                        <td id=\"T_a5fbf84d_bf50_11ea_bb3c_ac84a674227drow2_col1\" class=\"data row2 col1\" >$3.04</td>\n                        <td id=\"T_a5fbf84d_bf50_11ea_bb3c_ac84a674227drow2_col2\" class=\"data row2 col2\" >$412.89</td>\n                        <td id=\"T_a5fbf84d_bf50_11ea_bb3c_ac84a674227drow2_col3\" class=\"data row2 col3\" >$3.86</td>\n            </tr>\n            <tr>\n                        <th id=\"T_a5fbf84d_bf50_11ea_bb3c_ac84a674227dlevel0_row3\" class=\"row_heading level0 row3\" >20-24</th>\n                        <td id=\"T_a5fbf84d_bf50_11ea_bb3c_ac84a674227drow3_col0\" class=\"data row3 col0\" >365</td>\n                        <td id=\"T_a5fbf84d_bf50_11ea_bb3c_ac84a674227drow3_col1\" class=\"data row3 col1\" >$3.05</td>\n                        <td id=\"T_a5fbf84d_bf50_11ea_bb3c_ac84a674227drow3_col2\" class=\"data row3 col2\" >$1,114.06</td>\n                        <td id=\"T_a5fbf84d_bf50_11ea_bb3c_ac84a674227drow3_col3\" class=\"data row3 col3\" >$4.32</td>\n            </tr>\n            <tr>\n                        <th id=\"T_a5fbf84d_bf50_11ea_bb3c_ac84a674227dlevel0_row4\" class=\"row_heading level0 row4\" >25-29</th>\n                        <td id=\"T_a5fbf84d_bf50_11ea_bb3c_ac84a674227drow4_col0\" class=\"data row4 col0\" >101</td>\n                        <td id=\"T_a5fbf84d_bf50_11ea_bb3c_ac84a674227drow4_col1\" class=\"data row4 col1\" >$2.90</td>\n                        <td id=\"T_a5fbf84d_bf50_11ea_bb3c_ac84a674227drow4_col2\" class=\"data row4 col2\" >$293.00</td>\n                        <td id=\"T_a5fbf84d_bf50_11ea_bb3c_ac84a674227drow4_col3\" class=\"data row4 col3\" >$3.81</td>\n            </tr>\n            <tr>\n                        <th id=\"T_a5fbf84d_bf50_11ea_bb3c_ac84a674227dlevel0_row5\" class=\"row_heading level0 row5\" >30-34</th>\n                        <td id=\"T_a5fbf84d_bf50_11ea_bb3c_ac84a674227drow5_col0\" class=\"data row5 col0\" >73</td>\n                        <td id=\"T_a5fbf84d_bf50_11ea_bb3c_ac84a674227drow5_col1\" class=\"data row5 col1\" >$2.93</td>\n                        <td id=\"T_a5fbf84d_bf50_11ea_bb3c_ac84a674227drow5_col2\" class=\"data row5 col2\" >$214.00</td>\n                        <td id=\"T_a5fbf84d_bf50_11ea_bb3c_ac84a674227drow5_col3\" class=\"data row5 col3\" >$4.12</td>\n            </tr>\n            <tr>\n                        <th id=\"T_a5fbf84d_bf50_11ea_bb3c_ac84a674227dlevel0_row6\" class=\"row_heading level0 row6\" >35-39</th>\n                        <td id=\"T_a5fbf84d_bf50_11ea_bb3c_ac84a674227drow6_col0\" class=\"data row6 col0\" >41</td>\n                        <td id=\"T_a5fbf84d_bf50_11ea_bb3c_ac84a674227drow6_col1\" class=\"data row6 col1\" >$3.60</td>\n                        <td id=\"T_a5fbf84d_bf50_11ea_bb3c_ac84a674227drow6_col2\" class=\"data row6 col2\" >$147.67</td>\n                        <td id=\"T_a5fbf84d_bf50_11ea_bb3c_ac84a674227drow6_col3\" class=\"data row6 col3\" >$4.76</td>\n            </tr>\n            <tr>\n                        <th id=\"T_a5fbf84d_bf50_11ea_bb3c_ac84a674227dlevel0_row7\" class=\"row_heading level0 row7\" >40+</th>\n                        <td id=\"T_a5fbf84d_bf50_11ea_bb3c_ac84a674227drow7_col0\" class=\"data row7 col0\" >13</td>\n                        <td id=\"T_a5fbf84d_bf50_11ea_bb3c_ac84a674227drow7_col1\" class=\"data row7 col1\" >$2.94</td>\n                        <td id=\"T_a5fbf84d_bf50_11ea_bb3c_ac84a674227drow7_col2\" class=\"data row7 col2\" >$38.24</td>\n                        <td id=\"T_a5fbf84d_bf50_11ea_bb3c_ac84a674227drow7_col3\" class=\"data row7 col3\" >$3.19</td>\n            </tr>\n    </tbody></table>"
     },
     "metadata": {},
     "execution_count": 20
    }
   ],
   "source": [
    "# Results\n",
    "age_analysis.style.format({'Average Purchase Price':'${:.2f}','Total Purchase Value':'${:,.2f}','Avg Total Purchase per Person':'${:.2f}'})"
   ]
  },
  {
   "cell_type": "markdown",
   "metadata": {},
   "source": [
    "### Top Spenders"
   ]
  },
  {
   "cell_type": "code",
   "execution_count": 21,
   "metadata": {},
   "outputs": [],
   "source": [
    "# Basic calculation to obtain purchase count, average purchase price and total purchase value\n",
    "players_group = purchase_data.groupby(['SN'])\n",
    "players_purchase_count = players_group['Purchase ID'].nunique()\n",
    "players_ave_price = players_group['Price'].mean()\n",
    "players_total_revenue = players_group['Price'].sum()"
   ]
  },
  {
   "cell_type": "code",
   "execution_count": 22,
   "metadata": {},
   "outputs": [],
   "source": [
    "# Create dataframe\n",
    "players_analysis = pd.DataFrame({\n",
    "    'Purchase Count':players_purchase_count,\n",
    "    'Average Purchase Price':players_ave_price,\n",
    "    'Total Purchase Value':players_total_revenue\n",
    "})"
   ]
  },
  {
   "cell_type": "code",
   "execution_count": 23,
   "metadata": {},
   "outputs": [
    {
     "output_type": "execute_result",
     "data": {
      "text/plain": "<pandas.io.formats.style.Styler at 0x13cac56da30>",
      "text/html": "<style  type=\"text/css\" >\n</style><table id=\"T_a636dd22_bf50_11ea_a6f8_ac84a674227d\" ><thead>    <tr>        <th class=\"blank level0\" ></th>        <th class=\"col_heading level0 col0\" >Purchase Count</th>        <th class=\"col_heading level0 col1\" >Average Purchase Price</th>        <th class=\"col_heading level0 col2\" >Total Purchase Value</th>    </tr>    <tr>        <th class=\"index_name level0\" >SN</th>        <th class=\"blank\" ></th>        <th class=\"blank\" ></th>        <th class=\"blank\" ></th>    </tr></thead><tbody>\n                <tr>\n                        <th id=\"T_a636dd22_bf50_11ea_a6f8_ac84a674227dlevel0_row0\" class=\"row_heading level0 row0\" >Lisosia93</th>\n                        <td id=\"T_a636dd22_bf50_11ea_a6f8_ac84a674227drow0_col0\" class=\"data row0 col0\" >5</td>\n                        <td id=\"T_a636dd22_bf50_11ea_a6f8_ac84a674227drow0_col1\" class=\"data row0 col1\" >$3.79</td>\n                        <td id=\"T_a636dd22_bf50_11ea_a6f8_ac84a674227drow0_col2\" class=\"data row0 col2\" >$18.96</td>\n            </tr>\n            <tr>\n                        <th id=\"T_a636dd22_bf50_11ea_a6f8_ac84a674227dlevel0_row1\" class=\"row_heading level0 row1\" >Idastidru52</th>\n                        <td id=\"T_a636dd22_bf50_11ea_a6f8_ac84a674227drow1_col0\" class=\"data row1 col0\" >4</td>\n                        <td id=\"T_a636dd22_bf50_11ea_a6f8_ac84a674227drow1_col1\" class=\"data row1 col1\" >$3.86</td>\n                        <td id=\"T_a636dd22_bf50_11ea_a6f8_ac84a674227drow1_col2\" class=\"data row1 col2\" >$15.45</td>\n            </tr>\n            <tr>\n                        <th id=\"T_a636dd22_bf50_11ea_a6f8_ac84a674227dlevel0_row2\" class=\"row_heading level0 row2\" >Chamjask73</th>\n                        <td id=\"T_a636dd22_bf50_11ea_a6f8_ac84a674227drow2_col0\" class=\"data row2 col0\" >3</td>\n                        <td id=\"T_a636dd22_bf50_11ea_a6f8_ac84a674227drow2_col1\" class=\"data row2 col1\" >$4.61</td>\n                        <td id=\"T_a636dd22_bf50_11ea_a6f8_ac84a674227drow2_col2\" class=\"data row2 col2\" >$13.83</td>\n            </tr>\n            <tr>\n                        <th id=\"T_a636dd22_bf50_11ea_a6f8_ac84a674227dlevel0_row3\" class=\"row_heading level0 row3\" >Iral74</th>\n                        <td id=\"T_a636dd22_bf50_11ea_a6f8_ac84a674227drow3_col0\" class=\"data row3 col0\" >4</td>\n                        <td id=\"T_a636dd22_bf50_11ea_a6f8_ac84a674227drow3_col1\" class=\"data row3 col1\" >$3.40</td>\n                        <td id=\"T_a636dd22_bf50_11ea_a6f8_ac84a674227drow3_col2\" class=\"data row3 col2\" >$13.62</td>\n            </tr>\n            <tr>\n                        <th id=\"T_a636dd22_bf50_11ea_a6f8_ac84a674227dlevel0_row4\" class=\"row_heading level0 row4\" >Iskadarya95</th>\n                        <td id=\"T_a636dd22_bf50_11ea_a6f8_ac84a674227drow4_col0\" class=\"data row4 col0\" >3</td>\n                        <td id=\"T_a636dd22_bf50_11ea_a6f8_ac84a674227drow4_col1\" class=\"data row4 col1\" >$4.37</td>\n                        <td id=\"T_a636dd22_bf50_11ea_a6f8_ac84a674227drow4_col2\" class=\"data row4 col2\" >$13.10</td>\n            </tr>\n    </tbody></table>"
     },
     "metadata": {},
     "execution_count": 23
    }
   ],
   "source": [
    "# Results\n",
    "players_analysis.sort_values(by=['Total Purchase Value'],ascending=False).head().style.format({'Average Purchase Price':'${:.2f}','Total Purchase Value':'${:,.2f}'})"
   ]
  },
  {
   "cell_type": "code",
   "execution_count": null,
   "metadata": {},
   "outputs": [],
   "source": []
  },
  {
   "cell_type": "markdown",
   "metadata": {},
   "source": [
    "### Top Popular Items"
   ]
  },
  {
   "cell_type": "code",
   "execution_count": 24,
   "metadata": {},
   "outputs": [],
   "source": [
    "# Basic calculation to obtain purchase count, average purchase price and total purchase value\n",
    "items_group = purchase_data.groupby(['Item ID','Item Name'])\n",
    "items_purchase_count = items_group['Purchase ID'].nunique()\n",
    "items_ave_price = items_group['Price'].mean()\n",
    "items_total_revenue = items_group['Price'].sum()"
   ]
  },
  {
   "cell_type": "code",
   "execution_count": 25,
   "metadata": {},
   "outputs": [],
   "source": [
    "# Create dataframe\n",
    "items_analysis = pd.DataFrame({\n",
    "    'Purchase Count':items_purchase_count,\n",
    "    'Average Purchase Price': items_ave_price,\n",
    "    'Total Purchase Value': items_total_revenue\n",
    "})"
   ]
  },
  {
   "cell_type": "code",
   "execution_count": 26,
   "metadata": {},
   "outputs": [
    {
     "output_type": "execute_result",
     "data": {
      "text/plain": "<pandas.io.formats.style.Styler at 0x13cac840940>",
      "text/html": "<style  type=\"text/css\" >\n</style><table id=\"T_a66dfd00_bf50_11ea_8d12_ac84a674227d\" ><thead>    <tr>        <th class=\"blank\" ></th>        <th class=\"blank level0\" ></th>        <th class=\"col_heading level0 col0\" >Purchase Count</th>        <th class=\"col_heading level0 col1\" >Average Purchase Price</th>        <th class=\"col_heading level0 col2\" >Total Purchase Value</th>    </tr>    <tr>        <th class=\"index_name level0\" >Item ID</th>        <th class=\"index_name level1\" >Item Name</th>        <th class=\"blank\" ></th>        <th class=\"blank\" ></th>        <th class=\"blank\" ></th>    </tr></thead><tbody>\n                <tr>\n                        <th id=\"T_a66dfd00_bf50_11ea_8d12_ac84a674227dlevel0_row0\" class=\"row_heading level0 row0\" >178</th>\n                        <th id=\"T_a66dfd00_bf50_11ea_8d12_ac84a674227dlevel1_row0\" class=\"row_heading level1 row0\" >Oathbreaker, Last Hope of the Breaking Storm</th>\n                        <td id=\"T_a66dfd00_bf50_11ea_8d12_ac84a674227drow0_col0\" class=\"data row0 col0\" >12</td>\n                        <td id=\"T_a66dfd00_bf50_11ea_8d12_ac84a674227drow0_col1\" class=\"data row0 col1\" >$4.23</td>\n                        <td id=\"T_a66dfd00_bf50_11ea_8d12_ac84a674227drow0_col2\" class=\"data row0 col2\" >$50.76</td>\n            </tr>\n            <tr>\n                        <th id=\"T_a66dfd00_bf50_11ea_8d12_ac84a674227dlevel0_row1\" class=\"row_heading level0 row1\" >145</th>\n                        <th id=\"T_a66dfd00_bf50_11ea_8d12_ac84a674227dlevel1_row1\" class=\"row_heading level1 row1\" >Fiery Glass Crusader</th>\n                        <td id=\"T_a66dfd00_bf50_11ea_8d12_ac84a674227drow1_col0\" class=\"data row1 col0\" >9</td>\n                        <td id=\"T_a66dfd00_bf50_11ea_8d12_ac84a674227drow1_col1\" class=\"data row1 col1\" >$4.58</td>\n                        <td id=\"T_a66dfd00_bf50_11ea_8d12_ac84a674227drow1_col2\" class=\"data row1 col2\" >$41.22</td>\n            </tr>\n            <tr>\n                        <th id=\"T_a66dfd00_bf50_11ea_8d12_ac84a674227dlevel0_row2\" class=\"row_heading level0 row2\" >108</th>\n                        <th id=\"T_a66dfd00_bf50_11ea_8d12_ac84a674227dlevel1_row2\" class=\"row_heading level1 row2\" >Extraction, Quickblade Of Trembling Hands</th>\n                        <td id=\"T_a66dfd00_bf50_11ea_8d12_ac84a674227drow2_col0\" class=\"data row2 col0\" >9</td>\n                        <td id=\"T_a66dfd00_bf50_11ea_8d12_ac84a674227drow2_col1\" class=\"data row2 col1\" >$3.53</td>\n                        <td id=\"T_a66dfd00_bf50_11ea_8d12_ac84a674227drow2_col2\" class=\"data row2 col2\" >$31.77</td>\n            </tr>\n            <tr>\n                        <th id=\"T_a66dfd00_bf50_11ea_8d12_ac84a674227dlevel0_row3\" class=\"row_heading level0 row3\" >82</th>\n                        <th id=\"T_a66dfd00_bf50_11ea_8d12_ac84a674227dlevel1_row3\" class=\"row_heading level1 row3\" >Nirvana</th>\n                        <td id=\"T_a66dfd00_bf50_11ea_8d12_ac84a674227drow3_col0\" class=\"data row3 col0\" >9</td>\n                        <td id=\"T_a66dfd00_bf50_11ea_8d12_ac84a674227drow3_col1\" class=\"data row3 col1\" >$4.90</td>\n                        <td id=\"T_a66dfd00_bf50_11ea_8d12_ac84a674227drow3_col2\" class=\"data row3 col2\" >$44.10</td>\n            </tr>\n            <tr>\n                        <th id=\"T_a66dfd00_bf50_11ea_8d12_ac84a674227dlevel0_row4\" class=\"row_heading level0 row4\" >19</th>\n                        <th id=\"T_a66dfd00_bf50_11ea_8d12_ac84a674227dlevel1_row4\" class=\"row_heading level1 row4\" >Pursuit, Cudgel of Necromancy</th>\n                        <td id=\"T_a66dfd00_bf50_11ea_8d12_ac84a674227drow4_col0\" class=\"data row4 col0\" >8</td>\n                        <td id=\"T_a66dfd00_bf50_11ea_8d12_ac84a674227drow4_col1\" class=\"data row4 col1\" >$1.02</td>\n                        <td id=\"T_a66dfd00_bf50_11ea_8d12_ac84a674227drow4_col2\" class=\"data row4 col2\" >$8.16</td>\n            </tr>\n    </tbody></table>"
     },
     "metadata": {},
     "execution_count": 26
    }
   ],
   "source": [
    "# Results\n",
    "items_analysis.sort_values(by=['Purchase Count'],ascending=False).head().style.format({'Average Purchase Price':'${:.2f}','Total Purchase Value':'${:,.2f}'})"
   ]
  },
  {
   "cell_type": "markdown",
   "metadata": {},
   "source": [
    "### Top Profitable Items"
   ]
  },
  {
   "cell_type": "code",
   "execution_count": 27,
   "metadata": {},
   "outputs": [
    {
     "output_type": "execute_result",
     "data": {
      "text/plain": "<pandas.io.formats.style.Styler at 0x13cac842be0>",
      "text/html": "<style  type=\"text/css\" >\n</style><table id=\"T_a67f562f_bf50_11ea_856c_ac84a674227d\" ><thead>    <tr>        <th class=\"blank\" ></th>        <th class=\"blank level0\" ></th>        <th class=\"col_heading level0 col0\" >Purchase Count</th>        <th class=\"col_heading level0 col1\" >Average Purchase Price</th>        <th class=\"col_heading level0 col2\" >Total Purchase Value</th>    </tr>    <tr>        <th class=\"index_name level0\" >Item ID</th>        <th class=\"index_name level1\" >Item Name</th>        <th class=\"blank\" ></th>        <th class=\"blank\" ></th>        <th class=\"blank\" ></th>    </tr></thead><tbody>\n                <tr>\n                        <th id=\"T_a67f562f_bf50_11ea_856c_ac84a674227dlevel0_row0\" class=\"row_heading level0 row0\" >178</th>\n                        <th id=\"T_a67f562f_bf50_11ea_856c_ac84a674227dlevel1_row0\" class=\"row_heading level1 row0\" >Oathbreaker, Last Hope of the Breaking Storm</th>\n                        <td id=\"T_a67f562f_bf50_11ea_856c_ac84a674227drow0_col0\" class=\"data row0 col0\" >12</td>\n                        <td id=\"T_a67f562f_bf50_11ea_856c_ac84a674227drow0_col1\" class=\"data row0 col1\" >$4.23</td>\n                        <td id=\"T_a67f562f_bf50_11ea_856c_ac84a674227drow0_col2\" class=\"data row0 col2\" >$50.76</td>\n            </tr>\n            <tr>\n                        <th id=\"T_a67f562f_bf50_11ea_856c_ac84a674227dlevel0_row1\" class=\"row_heading level0 row1\" >82</th>\n                        <th id=\"T_a67f562f_bf50_11ea_856c_ac84a674227dlevel1_row1\" class=\"row_heading level1 row1\" >Nirvana</th>\n                        <td id=\"T_a67f562f_bf50_11ea_856c_ac84a674227drow1_col0\" class=\"data row1 col0\" >9</td>\n                        <td id=\"T_a67f562f_bf50_11ea_856c_ac84a674227drow1_col1\" class=\"data row1 col1\" >$4.90</td>\n                        <td id=\"T_a67f562f_bf50_11ea_856c_ac84a674227drow1_col2\" class=\"data row1 col2\" >$44.10</td>\n            </tr>\n            <tr>\n                        <th id=\"T_a67f562f_bf50_11ea_856c_ac84a674227dlevel0_row2\" class=\"row_heading level0 row2\" >145</th>\n                        <th id=\"T_a67f562f_bf50_11ea_856c_ac84a674227dlevel1_row2\" class=\"row_heading level1 row2\" >Fiery Glass Crusader</th>\n                        <td id=\"T_a67f562f_bf50_11ea_856c_ac84a674227drow2_col0\" class=\"data row2 col0\" >9</td>\n                        <td id=\"T_a67f562f_bf50_11ea_856c_ac84a674227drow2_col1\" class=\"data row2 col1\" >$4.58</td>\n                        <td id=\"T_a67f562f_bf50_11ea_856c_ac84a674227drow2_col2\" class=\"data row2 col2\" >$41.22</td>\n            </tr>\n            <tr>\n                        <th id=\"T_a67f562f_bf50_11ea_856c_ac84a674227dlevel0_row3\" class=\"row_heading level0 row3\" >92</th>\n                        <th id=\"T_a67f562f_bf50_11ea_856c_ac84a674227dlevel1_row3\" class=\"row_heading level1 row3\" >Final Critic</th>\n                        <td id=\"T_a67f562f_bf50_11ea_856c_ac84a674227drow3_col0\" class=\"data row3 col0\" >8</td>\n                        <td id=\"T_a67f562f_bf50_11ea_856c_ac84a674227drow3_col1\" class=\"data row3 col1\" >$4.88</td>\n                        <td id=\"T_a67f562f_bf50_11ea_856c_ac84a674227drow3_col2\" class=\"data row3 col2\" >$39.04</td>\n            </tr>\n            <tr>\n                        <th id=\"T_a67f562f_bf50_11ea_856c_ac84a674227dlevel0_row4\" class=\"row_heading level0 row4\" >103</th>\n                        <th id=\"T_a67f562f_bf50_11ea_856c_ac84a674227dlevel1_row4\" class=\"row_heading level1 row4\" >Singed Scalpel</th>\n                        <td id=\"T_a67f562f_bf50_11ea_856c_ac84a674227drow4_col0\" class=\"data row4 col0\" >8</td>\n                        <td id=\"T_a67f562f_bf50_11ea_856c_ac84a674227drow4_col1\" class=\"data row4 col1\" >$4.35</td>\n                        <td id=\"T_a67f562f_bf50_11ea_856c_ac84a674227drow4_col2\" class=\"data row4 col2\" >$34.80</td>\n            </tr>\n    </tbody></table>"
     },
     "metadata": {},
     "execution_count": 27
    }
   ],
   "source": [
    "# Print\n",
    "items_analysis.sort_values(by=['Total Purchase Value'],ascending=False).head().style.format({'Average Purchase Price':'${:.2f}','Total Purchase Value':'${:,.2f}'})"
   ]
  }
 ],
 "metadata": {
  "anaconda-cloud": {},
  "kernel_info": {
   "name": "python3"
  },
  "kernelspec": {
   "display_name": "Python 3.8.3 64-bit ('venv': venv)",
   "language": "python",
   "name": "python38364bitvenvvenv48e8bb4582b64b16a09f4c1ec296aba8"
  },
  "language_info": {
   "codemirror_mode": {
    "name": "ipython",
    "version": 3
   },
   "file_extension": ".py",
   "mimetype": "text/x-python",
   "name": "python",
   "nbconvert_exporter": "python",
   "pygments_lexer": "ipython3",
   "version": "3.8.3-final"
  },
  "latex_envs": {
   "LaTeX_envs_menu_present": true,
   "autoclose": false,
   "autocomplete": true,
   "bibliofile": "biblio.bib",
   "cite_by": "apalike",
   "current_citInitial": 1,
   "eqLabelWithNumbers": true,
   "eqNumInitial": 1,
   "hotkeys": {
    "equation": "Ctrl-E",
    "itemize": "Ctrl-I"
   },
   "labels_anchors": false,
   "latex_user_defs": false,
   "report_style_numbering": false,
   "user_envs_cfg": false
  },
  "nteract": {
   "version": "0.2.0"
  }
 },
 "nbformat": 4,
 "nbformat_minor": 2
}