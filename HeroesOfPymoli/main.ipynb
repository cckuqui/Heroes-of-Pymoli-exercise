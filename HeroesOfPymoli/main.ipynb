{
 "cells": [
  {
   "cell_type": "markdown",
   "metadata": {},
   "source": [
    "### Note\n",
    "* Instructions have been included for each segment. You do not have to follow them exactly, but they are included to help you think through the steps."
   ]
  },
  {
   "cell_type": "code",
   "execution_count": 1,
   "metadata": {},
   "outputs": [
    {
     "data": {
      "text/html": "<div>\n<style scoped>\n    .dataframe tbody tr th:only-of-type {\n        vertical-align: middle;\n    }\n\n    .dataframe tbody tr th {\n        vertical-align: top;\n    }\n\n    .dataframe thead th {\n        text-align: right;\n    }\n</style>\n<table border=\"1\" class=\"dataframe\">\n  <thead>\n    <tr style=\"text-align: right;\">\n      <th></th>\n      <th>Purchase ID</th>\n      <th>SN</th>\n      <th>Age</th>\n      <th>Gender</th>\n      <th>Item ID</th>\n      <th>Item Name</th>\n      <th>Price</th>\n    </tr>\n  </thead>\n  <tbody>\n    <tr>\n      <td>0</td>\n      <td>0</td>\n      <td>Lisim78</td>\n      <td>20</td>\n      <td>Male</td>\n      <td>108</td>\n      <td>Extraction, Quickblade Of Trembling Hands</td>\n      <td>3.53</td>\n    </tr>\n    <tr>\n      <td>1</td>\n      <td>1</td>\n      <td>Lisovynya38</td>\n      <td>40</td>\n      <td>Male</td>\n      <td>143</td>\n      <td>Frenzied Scimitar</td>\n      <td>1.56</td>\n    </tr>\n    <tr>\n      <td>2</td>\n      <td>2</td>\n      <td>Ithergue48</td>\n      <td>24</td>\n      <td>Male</td>\n      <td>92</td>\n      <td>Final Critic</td>\n      <td>4.88</td>\n    </tr>\n    <tr>\n      <td>3</td>\n      <td>3</td>\n      <td>Chamassasya86</td>\n      <td>24</td>\n      <td>Male</td>\n      <td>100</td>\n      <td>Blindscythe</td>\n      <td>3.27</td>\n    </tr>\n    <tr>\n      <td>4</td>\n      <td>4</td>\n      <td>Iskosia90</td>\n      <td>23</td>\n      <td>Male</td>\n      <td>131</td>\n      <td>Fury</td>\n      <td>1.44</td>\n    </tr>\n  </tbody>\n</table>\n</div>",
      "text/plain": "   Purchase ID             SN  Age Gender  Item ID  \\\n0            0        Lisim78   20   Male      108   \n1            1    Lisovynya38   40   Male      143   \n2            2     Ithergue48   24   Male       92   \n3            3  Chamassasya86   24   Male      100   \n4            4      Iskosia90   23   Male      131   \n\n                                   Item Name  Price  \n0  Extraction, Quickblade Of Trembling Hands   3.53  \n1                          Frenzied Scimitar   1.56  \n2                               Final Critic   4.88  \n3                                Blindscythe   3.27  \n4                                       Fury   1.44  "
     },
     "execution_count": 1,
     "metadata": {},
     "output_type": "execute_result"
    }
   ],
   "source": [
    "# Dependencies and Setup\n",
    "import pandas as pd\n",
    "import numpy as np \n",
    "\n",
    "# File to Load (Remember to Change These)\n",
    "file_to_load = \"purchase_data.csv\"\n",
    "\n",
    "# Read Purchasing File and store into Pandas data frame\n",
    "purchase_data = pd.read_csv(file_to_load)\n",
    "\n",
    "# Print preview of data\n",
    "purchase_data.head()"
   ]
  },
  {
   "cell_type": "markdown",
   "metadata": {},
   "source": [
    "## Player Count"
   ]
  },
  {
   "cell_type": "markdown",
   "metadata": {},
   "source": [
    "* Display the total number of players\n"
   ]
  },
  {
   "cell_type": "code",
   "execution_count": 2,
   "metadata": {},
   "outputs": [
    {
     "data": {
      "text/html": "<div>\n<style scoped>\n    .dataframe tbody tr th:only-of-type {\n        vertical-align: middle;\n    }\n\n    .dataframe tbody tr th {\n        vertical-align: top;\n    }\n\n    .dataframe thead th {\n        text-align: right;\n    }\n</style>\n<table border=\"1\" class=\"dataframe\">\n  <thead>\n    <tr style=\"text-align: right;\">\n      <th></th>\n      <th>Total Players</th>\n    </tr>\n  </thead>\n  <tbody>\n    <tr>\n      <td>0</td>\n      <td>576</td>\n    </tr>\n  </tbody>\n</table>\n</div>",
      "text/plain": "   Total Players\n0            576"
     },
     "execution_count": 2,
     "metadata": {},
     "output_type": "execute_result"
    }
   ],
   "source": [
    "# Count unique players\n",
    "player_count = purchase_data['SN'].nunique()\n",
    "\n",
    "# Create DataFrame to present information\n",
    "player_total = pd.DataFrame({'Total Players':[player_count]})\n",
    "\n",
    "# Print\n",
    "player_total"
   ]
  },
  {
   "cell_type": "markdown",
   "metadata": {},
   "source": [
    "## Purchasing Analysis (Total)"
   ]
  },
  {
   "cell_type": "markdown",
   "metadata": {},
   "source": [
    "* Run basic calculations to obtain number of unique items, average price, etc.\n",
    "\n",
    "\n",
    "* Create a summary data frame to hold the results\n",
    "\n",
    "\n",
    "* Optional: give the displayed data cleaner formatting\n",
    "\n",
    "\n",
    "* Display the summary data frame\n"
   ]
  },
  {
   "cell_type": "code",
   "execution_count": 3,
   "metadata": {},
   "outputs": [
    {
     "data": {
      "text/html": "<style  type=\"text/css\" >\n</style><table id=\"T_46a16eb0_5010_11ea_bc99_d6c14db29bc2\" ><thead>    <tr>        <th class=\"blank level0\" ></th>        <th class=\"col_heading level0 col0\" >Number of Unique Items</th>        <th class=\"col_heading level0 col1\" >Average Price</th>        <th class=\"col_heading level0 col2\" >Number of Purchases</th>        <th class=\"col_heading level0 col3\" >Total Revenue</th>    </tr></thead><tbody>\n                <tr>\n                        <th id=\"T_46a16eb0_5010_11ea_bc99_d6c14db29bc2level0_row0\" class=\"row_heading level0 row0\" >0</th>\n                        <td id=\"T_46a16eb0_5010_11ea_bc99_d6c14db29bc2row0_col0\" class=\"data row0 col0\" >183</td>\n                        <td id=\"T_46a16eb0_5010_11ea_bc99_d6c14db29bc2row0_col1\" class=\"data row0 col1\" >$3.05</td>\n                        <td id=\"T_46a16eb0_5010_11ea_bc99_d6c14db29bc2row0_col2\" class=\"data row0 col2\" >780</td>\n                        <td id=\"T_46a16eb0_5010_11ea_bc99_d6c14db29bc2row0_col3\" class=\"data row0 col3\" >$2,379.77</td>\n            </tr>\n    </tbody></table>",
      "text/plain": "<pandas.io.formats.style.Styler at 0x1886207d508>"
     },
     "execution_count": 3,
     "metadata": {},
     "output_type": "execute_result"
    }
   ],
   "source": [
    "# Basic calculation to obtain unique items, average price, number of purchases and total revenue\n",
    "unique_item = purchase_data['Item ID'].nunique()\n",
    "ave_price = purchase_data['Price'].mean()\n",
    "purchase_total = purchase_data['Purchase ID'].nunique()\n",
    "total_revenue = purchase_data['Price'].sum()\n",
    "\n",
    "# Create DataFrame to present the information\n",
    "purchasing_analysis = pd.DataFrame({'Number of Unique Items':[unique_item],'Average Price':[ave_price],'Number of Purchases':[purchase_total],'Total Revenue':[total_revenue]})\n",
    "\n",
    "# Format DataFrame\n",
    "format_df = {'Average Price':'${:.2f}','Total Revenue':'${:,.2f}'}\n",
    "\n",
    "# Print\n",
    "purchasing_analysis.style.format(format_df)"
   ]
  },
  {
   "cell_type": "markdown",
   "metadata": {},
   "source": [
    "## Gender Demographics"
   ]
  },
  {
   "cell_type": "markdown",
   "metadata": {},
   "source": [
    "* Percentage and Count of Male Players\n",
    "\n",
    "\n",
    "* Percentage and Count of Female Players\n",
    "\n",
    "\n",
    "* Percentage and Count of Other / Non-Disclosed\n",
    "\n",
    "\n"
   ]
  },
  {
   "cell_type": "code",
   "execution_count": 4,
   "metadata": {},
   "outputs": [
    {
     "data": {
      "text/html": "<style  type=\"text/css\" >\n</style><table id=\"T_4cd6f854_5010_11ea_baaa_d6c14db29bc2\" ><thead>    <tr>        <th class=\"blank level0\" ></th>        <th class=\"col_heading level0 col0\" >Total Count</th>        <th class=\"col_heading level0 col1\" >Percentage of Players</th>    </tr>    <tr>        <th class=\"index_name level0\" >Gender</th>        <th class=\"blank\" ></th>        <th class=\"blank\" ></th>    </tr></thead><tbody>\n                <tr>\n                        <th id=\"T_4cd6f854_5010_11ea_baaa_d6c14db29bc2level0_row0\" class=\"row_heading level0 row0\" >Male</th>\n                        <td id=\"T_4cd6f854_5010_11ea_baaa_d6c14db29bc2row0_col0\" class=\"data row0 col0\" >484</td>\n                        <td id=\"T_4cd6f854_5010_11ea_baaa_d6c14db29bc2row0_col1\" class=\"data row0 col1\" >84.03%</td>\n            </tr>\n            <tr>\n                        <th id=\"T_4cd6f854_5010_11ea_baaa_d6c14db29bc2level0_row1\" class=\"row_heading level0 row1\" >Female</th>\n                        <td id=\"T_4cd6f854_5010_11ea_baaa_d6c14db29bc2row1_col0\" class=\"data row1 col0\" >81</td>\n                        <td id=\"T_4cd6f854_5010_11ea_baaa_d6c14db29bc2row1_col1\" class=\"data row1 col1\" >14.06%</td>\n            </tr>\n            <tr>\n                        <th id=\"T_4cd6f854_5010_11ea_baaa_d6c14db29bc2level0_row2\" class=\"row_heading level0 row2\" >Other / Non-Disclosed</th>\n                        <td id=\"T_4cd6f854_5010_11ea_baaa_d6c14db29bc2row2_col0\" class=\"data row2 col0\" >11</td>\n                        <td id=\"T_4cd6f854_5010_11ea_baaa_d6c14db29bc2row2_col1\" class=\"data row2 col1\" >1.91%</td>\n            </tr>\n    </tbody></table>",
      "text/plain": "<pandas.io.formats.style.Styler at 0x188624d9308>"
     },
     "execution_count": 4,
     "metadata": {},
     "output_type": "execute_result"
    }
   ],
   "source": [
    "# Group by gender and count them\n",
    "gender_group = purchase_data.groupby(['Gender'])\n",
    "count_gender = gender_group['SN'].nunique()\n",
    "percentage_players = count_gender/player_count*100\n",
    "\n",
    "# Create data frames and merge them\n",
    "gender_demographics = pd.merge(pd.DataFrame(count_gender),pd.DataFrame(percentage_players),on='Gender').sort_values(by=['SN_x'],ascending=False)\n",
    "\n",
    "# Rename columns and add formatting\n",
    "gender_demographics = gender_demographics.rename(columns={'SN_x':'Total Count','SN_y':'Percentage of Players'})\n",
    "format_df = {'Percentage of Players':'{:.2F}%'}\n",
    "\n",
    "# Print\n",
    "gender_demographics.style.format(format_df)"
   ]
  },
  {
   "cell_type": "markdown",
   "metadata": {},
   "source": [
    "\n",
    "## Purchasing Analysis (Gender)"
   ]
  },
  {
   "cell_type": "markdown",
   "metadata": {},
   "source": [
    "* Run basic calculations to obtain purchase count, avg. purchase price, avg. purchase total per person etc. by gender\n",
    "\n",
    "\n",
    "\n",
    "\n",
    "* Create a summary data frame to hold the results\n",
    "\n",
    "\n",
    "* Optional: give the displayed data cleaner formatting\n",
    "\n",
    "\n",
    "* Display the summary data frame"
   ]
  },
  {
   "cell_type": "code",
   "execution_count": 5,
   "metadata": {},
   "outputs": [
    {
     "data": {
      "text/html": "<style  type=\"text/css\" >\n</style><table id=\"T_5588d25a_5010_11ea_9ef8_d6c14db29bc2\" ><thead>    <tr>        <th class=\"blank level0\" ></th>        <th class=\"col_heading level0 col0\" >Purchase Count</th>        <th class=\"col_heading level0 col1\" >Average Purchase Price</th>        <th class=\"col_heading level0 col2\" >Total Purchase Value</th>        <th class=\"col_heading level0 col3\" >Avg Total Purchase per Person</th>    </tr>    <tr>        <th class=\"index_name level0\" >Gender</th>        <th class=\"blank\" ></th>        <th class=\"blank\" ></th>        <th class=\"blank\" ></th>        <th class=\"blank\" ></th>    </tr></thead><tbody>\n                <tr>\n                        <th id=\"T_5588d25a_5010_11ea_9ef8_d6c14db29bc2level0_row0\" class=\"row_heading level0 row0\" >Female</th>\n                        <td id=\"T_5588d25a_5010_11ea_9ef8_d6c14db29bc2row0_col0\" class=\"data row0 col0\" >113</td>\n                        <td id=\"T_5588d25a_5010_11ea_9ef8_d6c14db29bc2row0_col1\" class=\"data row0 col1\" >$3.20</td>\n                        <td id=\"T_5588d25a_5010_11ea_9ef8_d6c14db29bc2row0_col2\" class=\"data row0 col2\" >$361.94</td>\n                        <td id=\"T_5588d25a_5010_11ea_9ef8_d6c14db29bc2row0_col3\" class=\"data row0 col3\" >$4.47</td>\n            </tr>\n            <tr>\n                        <th id=\"T_5588d25a_5010_11ea_9ef8_d6c14db29bc2level0_row1\" class=\"row_heading level0 row1\" >Male</th>\n                        <td id=\"T_5588d25a_5010_11ea_9ef8_d6c14db29bc2row1_col0\" class=\"data row1 col0\" >652</td>\n                        <td id=\"T_5588d25a_5010_11ea_9ef8_d6c14db29bc2row1_col1\" class=\"data row1 col1\" >$3.02</td>\n                        <td id=\"T_5588d25a_5010_11ea_9ef8_d6c14db29bc2row1_col2\" class=\"data row1 col2\" >$1967.64</td>\n                        <td id=\"T_5588d25a_5010_11ea_9ef8_d6c14db29bc2row1_col3\" class=\"data row1 col3\" >$4.07</td>\n            </tr>\n            <tr>\n                        <th id=\"T_5588d25a_5010_11ea_9ef8_d6c14db29bc2level0_row2\" class=\"row_heading level0 row2\" >Other / Non-Disclosed</th>\n                        <td id=\"T_5588d25a_5010_11ea_9ef8_d6c14db29bc2row2_col0\" class=\"data row2 col0\" >15</td>\n                        <td id=\"T_5588d25a_5010_11ea_9ef8_d6c14db29bc2row2_col1\" class=\"data row2 col1\" >$3.35</td>\n                        <td id=\"T_5588d25a_5010_11ea_9ef8_d6c14db29bc2row2_col2\" class=\"data row2 col2\" >$50.19</td>\n                        <td id=\"T_5588d25a_5010_11ea_9ef8_d6c14db29bc2row2_col3\" class=\"data row2 col3\" >$4.56</td>\n            </tr>\n    </tbody></table>",
      "text/plain": "<pandas.io.formats.style.Styler at 0x18862907f08>"
     },
     "execution_count": 5,
     "metadata": {},
     "output_type": "execute_result"
    }
   ],
   "source": [
    "# Basic calculation to obtain purchase count, average purchase price, total purchase value and average total purchase per person\n",
    "purchase_count = gender_group['Purchase ID'].nunique()\n",
    "ave_gprice = gender_group['Price'].mean()\n",
    "total_grevenue = gender_group['Price'].sum()\n",
    "ave_grevenue = total_grevenue/count_gender\n",
    "\n",
    "# Merge all dataframes\n",
    "purchasing_ganalysis = pd.merge(pd.DataFrame(purchase_count),pd.DataFrame(ave_gprice),on='Gender')\n",
    "purchasing_ganalysis = pd.merge(purchasing_ganalysis,pd.DataFrame(total_grevenue),on='Gender')\n",
    "purchasing_ganalysis = pd.merge(purchasing_ganalysis,pd.DataFrame(ave_grevenue),on='Gender')\n",
    "\n",
    "# Rename columns and add formatting\n",
    "purchasing_ganalysis = purchasing_ganalysis.rename(columns={'Purchase ID':'Purchase Count','Price_x':'Average Purchase Price','Price_y':'Total Purchase Value',0:'Avg Total Purchase per Person'})\n",
    "format_df = {'Average Purchase Price':'${:.2f}','Total Purchase Value':'${:.2f}','Avg Total Purchase per Person':'${:.2f}'}\n",
    "\n",
    "# Print\n",
    "purchasing_ganalysis.style.format(format_df)"
   ]
  },
  {
   "cell_type": "markdown",
   "metadata": {},
   "source": [
    "## Age Demographics"
   ]
  },
  {
   "cell_type": "markdown",
   "metadata": {},
   "source": [
    "* Establish bins for ages\n",
    "\n",
    "\n",
    "* Categorize the existing players using the age bins. Hint: use pd.cut()\n",
    "\n",
    "\n",
    "* Calculate the numbers and percentages by age group\n",
    "\n",
    "\n",
    "* Create a summary data frame to hold the results\n",
    "\n",
    "\n",
    "* Optional: round the percentage column to two decimal points\n",
    "\n",
    "\n",
    "* Display Age Demographics Table\n"
   ]
  },
  {
   "cell_type": "code",
   "execution_count": 6,
   "metadata": {},
   "outputs": [
    {
     "data": {
      "text/html": "<style  type=\"text/css\" >\n</style><table id=\"T_5910c674_5010_11ea_b406_d6c14db29bc2\" ><thead>    <tr>        <th class=\"blank level0\" ></th>        <th class=\"col_heading level0 col0\" >Total Count</th>        <th class=\"col_heading level0 col1\" >Percentage of Players</th>    </tr>    <tr>        <th class=\"index_name level0\" >Age Group</th>        <th class=\"blank\" ></th>        <th class=\"blank\" ></th>    </tr></thead><tbody>\n                <tr>\n                        <th id=\"T_5910c674_5010_11ea_b406_d6c14db29bc2level0_row0\" class=\"row_heading level0 row0\" ><10</th>\n                        <td id=\"T_5910c674_5010_11ea_b406_d6c14db29bc2row0_col0\" class=\"data row0 col0\" >17</td>\n                        <td id=\"T_5910c674_5010_11ea_b406_d6c14db29bc2row0_col1\" class=\"data row0 col1\" >2.95%</td>\n            </tr>\n            <tr>\n                        <th id=\"T_5910c674_5010_11ea_b406_d6c14db29bc2level0_row1\" class=\"row_heading level0 row1\" >10-14</th>\n                        <td id=\"T_5910c674_5010_11ea_b406_d6c14db29bc2row1_col0\" class=\"data row1 col0\" >22</td>\n                        <td id=\"T_5910c674_5010_11ea_b406_d6c14db29bc2row1_col1\" class=\"data row1 col1\" >3.82%</td>\n            </tr>\n            <tr>\n                        <th id=\"T_5910c674_5010_11ea_b406_d6c14db29bc2level0_row2\" class=\"row_heading level0 row2\" >15-19</th>\n                        <td id=\"T_5910c674_5010_11ea_b406_d6c14db29bc2row2_col0\" class=\"data row2 col0\" >107</td>\n                        <td id=\"T_5910c674_5010_11ea_b406_d6c14db29bc2row2_col1\" class=\"data row2 col1\" >18.58%</td>\n            </tr>\n            <tr>\n                        <th id=\"T_5910c674_5010_11ea_b406_d6c14db29bc2level0_row3\" class=\"row_heading level0 row3\" >20-24</th>\n                        <td id=\"T_5910c674_5010_11ea_b406_d6c14db29bc2row3_col0\" class=\"data row3 col0\" >258</td>\n                        <td id=\"T_5910c674_5010_11ea_b406_d6c14db29bc2row3_col1\" class=\"data row3 col1\" >44.79%</td>\n            </tr>\n            <tr>\n                        <th id=\"T_5910c674_5010_11ea_b406_d6c14db29bc2level0_row4\" class=\"row_heading level0 row4\" >25-29</th>\n                        <td id=\"T_5910c674_5010_11ea_b406_d6c14db29bc2row4_col0\" class=\"data row4 col0\" >77</td>\n                        <td id=\"T_5910c674_5010_11ea_b406_d6c14db29bc2row4_col1\" class=\"data row4 col1\" >13.37%</td>\n            </tr>\n            <tr>\n                        <th id=\"T_5910c674_5010_11ea_b406_d6c14db29bc2level0_row5\" class=\"row_heading level0 row5\" >30-34</th>\n                        <td id=\"T_5910c674_5010_11ea_b406_d6c14db29bc2row5_col0\" class=\"data row5 col0\" >52</td>\n                        <td id=\"T_5910c674_5010_11ea_b406_d6c14db29bc2row5_col1\" class=\"data row5 col1\" >9.03%</td>\n            </tr>\n            <tr>\n                        <th id=\"T_5910c674_5010_11ea_b406_d6c14db29bc2level0_row6\" class=\"row_heading level0 row6\" >35-39</th>\n                        <td id=\"T_5910c674_5010_11ea_b406_d6c14db29bc2row6_col0\" class=\"data row6 col0\" >31</td>\n                        <td id=\"T_5910c674_5010_11ea_b406_d6c14db29bc2row6_col1\" class=\"data row6 col1\" >5.38%</td>\n            </tr>\n            <tr>\n                        <th id=\"T_5910c674_5010_11ea_b406_d6c14db29bc2level0_row7\" class=\"row_heading level0 row7\" >40+</th>\n                        <td id=\"T_5910c674_5010_11ea_b406_d6c14db29bc2row7_col0\" class=\"data row7 col0\" >12</td>\n                        <td id=\"T_5910c674_5010_11ea_b406_d6c14db29bc2row7_col1\" class=\"data row7 col1\" >2.08%</td>\n            </tr>\n    </tbody></table>",
      "text/plain": "<pandas.io.formats.style.Styler at 0x1886207d448>"
     },
     "execution_count": 6,
     "metadata": {},
     "output_type": "execute_result"
    }
   ],
   "source": [
    "# Create bins and labels\n",
    "bins = [0,9,14,19,24,29,34,39,np.inf]\n",
    "age_labels=['<10','10-14','15-19','20-24','25-29','30-34','35-39','40+']\n",
    "\n",
    "# Categorize players with age bins and add column into dataframe\n",
    "age_demographics = pd.cut(purchase_data['Age'],bins=bins,labels=age_labels)\n",
    "purchase_data['Age Group'] = age_demographics\n",
    "purchase_data.head()\n",
    "\n",
    "# Group by age groups and count them\n",
    "ages_group = purchase_data.groupby(['Age Group'])\n",
    "count_ages = ages_group['SN'].nunique()\n",
    "percentage_ages = count_ages/player_count*100\n",
    "\n",
    "# Create data frames and merge them\n",
    "age_demographics = pd.merge(pd.DataFrame(count_ages),pd.DataFrame(percentage_ages),on='Age Group')\n",
    "age_demographics\n",
    "\n",
    "# Rename columns and add formatting\n",
    "age_demographics = age_demographics.rename(columns={'SN_x':'Total Count','SN_y':'Percentage of Players'})\n",
    "format_df = {'Percentage of Players':'{:.2F}%'}\n",
    "\n",
    "# Print\n",
    "age_demographics.style.format(format_df)"
   ]
  },
  {
   "cell_type": "markdown",
   "metadata": {},
   "source": [
    "## Purchasing Analysis (Age)"
   ]
  },
  {
   "cell_type": "markdown",
   "metadata": {},
   "source": [
    "* Bin the purchase_data data frame by age\n",
    "\n",
    "\n",
    "* Run basic calculations to obtain purchase count, avg. purchase price, avg. purchase total per person etc. in the table below\n",
    "\n",
    "\n",
    "* Create a summary data frame to hold the results\n",
    "\n",
    "\n",
    "* Optional: give the displayed data cleaner formatting\n",
    "\n",
    "\n",
    "* Display the summary data frame"
   ]
  },
  {
   "cell_type": "code",
   "execution_count": 7,
   "metadata": {},
   "outputs": [
    {
     "data": {
      "text/html": "<style  type=\"text/css\" >\n</style><table id=\"T_5c4fbc02_5010_11ea_b480_d6c14db29bc2\" ><thead>    <tr>        <th class=\"blank level0\" ></th>        <th class=\"col_heading level0 col0\" >Purchase Count</th>        <th class=\"col_heading level0 col1\" >Average Purchase Price</th>        <th class=\"col_heading level0 col2\" >Total Purchase Value</th>        <th class=\"col_heading level0 col3\" >Avg Total Purchase per Person</th>    </tr>    <tr>        <th class=\"index_name level0\" >Age Group</th>        <th class=\"blank\" ></th>        <th class=\"blank\" ></th>        <th class=\"blank\" ></th>        <th class=\"blank\" ></th>    </tr></thead><tbody>\n                <tr>\n                        <th id=\"T_5c4fbc02_5010_11ea_b480_d6c14db29bc2level0_row0\" class=\"row_heading level0 row0\" ><10</th>\n                        <td id=\"T_5c4fbc02_5010_11ea_b480_d6c14db29bc2row0_col0\" class=\"data row0 col0\" >23</td>\n                        <td id=\"T_5c4fbc02_5010_11ea_b480_d6c14db29bc2row0_col1\" class=\"data row0 col1\" >$3.35</td>\n                        <td id=\"T_5c4fbc02_5010_11ea_b480_d6c14db29bc2row0_col2\" class=\"data row0 col2\" >$77.13</td>\n                        <td id=\"T_5c4fbc02_5010_11ea_b480_d6c14db29bc2row0_col3\" class=\"data row0 col3\" >$4.54</td>\n            </tr>\n            <tr>\n                        <th id=\"T_5c4fbc02_5010_11ea_b480_d6c14db29bc2level0_row1\" class=\"row_heading level0 row1\" >10-14</th>\n                        <td id=\"T_5c4fbc02_5010_11ea_b480_d6c14db29bc2row1_col0\" class=\"data row1 col0\" >28</td>\n                        <td id=\"T_5c4fbc02_5010_11ea_b480_d6c14db29bc2row1_col1\" class=\"data row1 col1\" >$2.96</td>\n                        <td id=\"T_5c4fbc02_5010_11ea_b480_d6c14db29bc2row1_col2\" class=\"data row1 col2\" >$82.78</td>\n                        <td id=\"T_5c4fbc02_5010_11ea_b480_d6c14db29bc2row1_col3\" class=\"data row1 col3\" >$3.76</td>\n            </tr>\n            <tr>\n                        <th id=\"T_5c4fbc02_5010_11ea_b480_d6c14db29bc2level0_row2\" class=\"row_heading level0 row2\" >15-19</th>\n                        <td id=\"T_5c4fbc02_5010_11ea_b480_d6c14db29bc2row2_col0\" class=\"data row2 col0\" >136</td>\n                        <td id=\"T_5c4fbc02_5010_11ea_b480_d6c14db29bc2row2_col1\" class=\"data row2 col1\" >$3.04</td>\n                        <td id=\"T_5c4fbc02_5010_11ea_b480_d6c14db29bc2row2_col2\" class=\"data row2 col2\" >$412.89</td>\n                        <td id=\"T_5c4fbc02_5010_11ea_b480_d6c14db29bc2row2_col3\" class=\"data row2 col3\" >$3.86</td>\n            </tr>\n            <tr>\n                        <th id=\"T_5c4fbc02_5010_11ea_b480_d6c14db29bc2level0_row3\" class=\"row_heading level0 row3\" >20-24</th>\n                        <td id=\"T_5c4fbc02_5010_11ea_b480_d6c14db29bc2row3_col0\" class=\"data row3 col0\" >365</td>\n                        <td id=\"T_5c4fbc02_5010_11ea_b480_d6c14db29bc2row3_col1\" class=\"data row3 col1\" >$3.05</td>\n                        <td id=\"T_5c4fbc02_5010_11ea_b480_d6c14db29bc2row3_col2\" class=\"data row3 col2\" >$1,114.06</td>\n                        <td id=\"T_5c4fbc02_5010_11ea_b480_d6c14db29bc2row3_col3\" class=\"data row3 col3\" >$4.32</td>\n            </tr>\n            <tr>\n                        <th id=\"T_5c4fbc02_5010_11ea_b480_d6c14db29bc2level0_row4\" class=\"row_heading level0 row4\" >25-29</th>\n                        <td id=\"T_5c4fbc02_5010_11ea_b480_d6c14db29bc2row4_col0\" class=\"data row4 col0\" >101</td>\n                        <td id=\"T_5c4fbc02_5010_11ea_b480_d6c14db29bc2row4_col1\" class=\"data row4 col1\" >$2.90</td>\n                        <td id=\"T_5c4fbc02_5010_11ea_b480_d6c14db29bc2row4_col2\" class=\"data row4 col2\" >$293.00</td>\n                        <td id=\"T_5c4fbc02_5010_11ea_b480_d6c14db29bc2row4_col3\" class=\"data row4 col3\" >$3.81</td>\n            </tr>\n            <tr>\n                        <th id=\"T_5c4fbc02_5010_11ea_b480_d6c14db29bc2level0_row5\" class=\"row_heading level0 row5\" >30-34</th>\n                        <td id=\"T_5c4fbc02_5010_11ea_b480_d6c14db29bc2row5_col0\" class=\"data row5 col0\" >73</td>\n                        <td id=\"T_5c4fbc02_5010_11ea_b480_d6c14db29bc2row5_col1\" class=\"data row5 col1\" >$2.93</td>\n                        <td id=\"T_5c4fbc02_5010_11ea_b480_d6c14db29bc2row5_col2\" class=\"data row5 col2\" >$214.00</td>\n                        <td id=\"T_5c4fbc02_5010_11ea_b480_d6c14db29bc2row5_col3\" class=\"data row5 col3\" >$4.12</td>\n            </tr>\n            <tr>\n                        <th id=\"T_5c4fbc02_5010_11ea_b480_d6c14db29bc2level0_row6\" class=\"row_heading level0 row6\" >35-39</th>\n                        <td id=\"T_5c4fbc02_5010_11ea_b480_d6c14db29bc2row6_col0\" class=\"data row6 col0\" >41</td>\n                        <td id=\"T_5c4fbc02_5010_11ea_b480_d6c14db29bc2row6_col1\" class=\"data row6 col1\" >$3.60</td>\n                        <td id=\"T_5c4fbc02_5010_11ea_b480_d6c14db29bc2row6_col2\" class=\"data row6 col2\" >$147.67</td>\n                        <td id=\"T_5c4fbc02_5010_11ea_b480_d6c14db29bc2row6_col3\" class=\"data row6 col3\" >$4.76</td>\n            </tr>\n            <tr>\n                        <th id=\"T_5c4fbc02_5010_11ea_b480_d6c14db29bc2level0_row7\" class=\"row_heading level0 row7\" >40+</th>\n                        <td id=\"T_5c4fbc02_5010_11ea_b480_d6c14db29bc2row7_col0\" class=\"data row7 col0\" >13</td>\n                        <td id=\"T_5c4fbc02_5010_11ea_b480_d6c14db29bc2row7_col1\" class=\"data row7 col1\" >$2.94</td>\n                        <td id=\"T_5c4fbc02_5010_11ea_b480_d6c14db29bc2row7_col2\" class=\"data row7 col2\" >$38.24</td>\n                        <td id=\"T_5c4fbc02_5010_11ea_b480_d6c14db29bc2row7_col3\" class=\"data row7 col3\" >$3.19</td>\n            </tr>\n    </tbody></table>",
      "text/plain": "<pandas.io.formats.style.Styler at 0x188628f4488>"
     },
     "execution_count": 7,
     "metadata": {},
     "output_type": "execute_result"
    }
   ],
   "source": [
    "# Basic calculation to obtain purchase count, average purchase price, total purchase value and average total purchase per person\n",
    "purchase_acount = ages_group['Purchase ID'].nunique()\n",
    "ave_aprice = ages_group['Price'].mean()\n",
    "total_arevenue = ages_group['Price'].sum()\n",
    "ave_arevenue = total_arevenue/count_ages\n",
    "\n",
    "# Merge all dataframes\n",
    "purchasing_aanalysis = pd.merge(pd.DataFrame(purchase_acount),pd.DataFrame(ave_aprice),on='Age Group')\n",
    "purchasing_aanalysis = pd.merge(purchasing_aanalysis,pd.DataFrame(total_arevenue),on='Age Group')\n",
    "purchasing_aanalysis = pd.merge(purchasing_aanalysis,pd.DataFrame(ave_arevenue),on='Age Group')\n",
    "\n",
    "# Rename columns and add formatting\n",
    "purchasing_aanalysis = purchasing_aanalysis.rename(columns={'Purchase ID':'Purchase Count','Price_x':'Average Purchase Price','Price_y':'Total Purchase Value',0:'Avg Total Purchase per Person'})\n",
    "format_df = {'Average Purchase Price':'${:.2f}','Total Purchase Value':'${:,.2f}','Avg Total Purchase per Person':'${:.2f}'}\n",
    "\n",
    "# Print\n",
    "purchasing_aanalysis.style.format(format_df)"
   ]
  },
  {
   "cell_type": "markdown",
   "metadata": {},
   "source": [
    "## Top Spenders"
   ]
  },
  {
   "cell_type": "markdown",
   "metadata": {},
   "source": [
    "* Run basic calculations to obtain the results in the table below\n",
    "\n",
    "\n",
    "* Create a summary data frame to hold the results\n",
    "\n",
    "\n",
    "* Sort the total purchase value column in descending order\n",
    "\n",
    "\n",
    "* Optional: give the displayed data cleaner formatting\n",
    "\n",
    "\n",
    "* Display a preview of the summary data frame\n",
    "\n"
   ]
  },
  {
   "cell_type": "code",
   "execution_count": 8,
   "metadata": {},
   "outputs": [
    {
     "data": {
      "text/html": "<style  type=\"text/css\" >\n</style><table id=\"T_65c73062_5010_11ea_9fa6_d6c14db29bc2\" ><thead>    <tr>        <th class=\"blank level0\" ></th>        <th class=\"col_heading level0 col0\" >Purchase Count</th>        <th class=\"col_heading level0 col1\" >Average Purchase Price</th>        <th class=\"col_heading level0 col2\" >Total Purchase Value</th>    </tr>    <tr>        <th class=\"index_name level0\" >SN</th>        <th class=\"blank\" ></th>        <th class=\"blank\" ></th>        <th class=\"blank\" ></th>    </tr></thead><tbody>\n                <tr>\n                        <th id=\"T_65c73062_5010_11ea_9fa6_d6c14db29bc2level0_row0\" class=\"row_heading level0 row0\" >Lisosia93</th>\n                        <td id=\"T_65c73062_5010_11ea_9fa6_d6c14db29bc2row0_col0\" class=\"data row0 col0\" >5</td>\n                        <td id=\"T_65c73062_5010_11ea_9fa6_d6c14db29bc2row0_col1\" class=\"data row0 col1\" >$3.79</td>\n                        <td id=\"T_65c73062_5010_11ea_9fa6_d6c14db29bc2row0_col2\" class=\"data row0 col2\" >$18.96</td>\n            </tr>\n            <tr>\n                        <th id=\"T_65c73062_5010_11ea_9fa6_d6c14db29bc2level0_row1\" class=\"row_heading level0 row1\" >Idastidru52</th>\n                        <td id=\"T_65c73062_5010_11ea_9fa6_d6c14db29bc2row1_col0\" class=\"data row1 col0\" >4</td>\n                        <td id=\"T_65c73062_5010_11ea_9fa6_d6c14db29bc2row1_col1\" class=\"data row1 col1\" >$3.86</td>\n                        <td id=\"T_65c73062_5010_11ea_9fa6_d6c14db29bc2row1_col2\" class=\"data row1 col2\" >$15.45</td>\n            </tr>\n            <tr>\n                        <th id=\"T_65c73062_5010_11ea_9fa6_d6c14db29bc2level0_row2\" class=\"row_heading level0 row2\" >Chamjask73</th>\n                        <td id=\"T_65c73062_5010_11ea_9fa6_d6c14db29bc2row2_col0\" class=\"data row2 col0\" >3</td>\n                        <td id=\"T_65c73062_5010_11ea_9fa6_d6c14db29bc2row2_col1\" class=\"data row2 col1\" >$4.61</td>\n                        <td id=\"T_65c73062_5010_11ea_9fa6_d6c14db29bc2row2_col2\" class=\"data row2 col2\" >$13.83</td>\n            </tr>\n            <tr>\n                        <th id=\"T_65c73062_5010_11ea_9fa6_d6c14db29bc2level0_row3\" class=\"row_heading level0 row3\" >Iral74</th>\n                        <td id=\"T_65c73062_5010_11ea_9fa6_d6c14db29bc2row3_col0\" class=\"data row3 col0\" >4</td>\n                        <td id=\"T_65c73062_5010_11ea_9fa6_d6c14db29bc2row3_col1\" class=\"data row3 col1\" >$3.40</td>\n                        <td id=\"T_65c73062_5010_11ea_9fa6_d6c14db29bc2row3_col2\" class=\"data row3 col2\" >$13.62</td>\n            </tr>\n            <tr>\n                        <th id=\"T_65c73062_5010_11ea_9fa6_d6c14db29bc2level0_row4\" class=\"row_heading level0 row4\" >Iskadarya95</th>\n                        <td id=\"T_65c73062_5010_11ea_9fa6_d6c14db29bc2row4_col0\" class=\"data row4 col0\" >3</td>\n                        <td id=\"T_65c73062_5010_11ea_9fa6_d6c14db29bc2row4_col1\" class=\"data row4 col1\" >$4.37</td>\n                        <td id=\"T_65c73062_5010_11ea_9fa6_d6c14db29bc2row4_col2\" class=\"data row4 col2\" >$13.10</td>\n            </tr>\n    </tbody></table>",
      "text/plain": "<pandas.io.formats.style.Styler at 0x18863738a08>"
     },
     "execution_count": 8,
     "metadata": {},
     "output_type": "execute_result"
    }
   ],
   "source": [
    "# Basic calculation to obtain purchase count, average purchase price and total purchase value\n",
    "players_group = purchase_data.groupby(['SN'])\n",
    "purchase_pcount = players_group['Purchase ID'].nunique()\n",
    "ave_pprice = players_group['Price'].mean()\n",
    "total_prevenue = players_group['Price'].sum()\n",
    "\n",
    "# Merge all dataframes\n",
    "purchasing_panalysis = pd.merge(pd.DataFrame(purchase_pcount),pd.DataFrame(ave_pprice),on='SN')\n",
    "purchasing_panalysis = pd.merge(purchasing_panalysis,pd.DataFrame(total_prevenue),on='SN').sort_values(by=['Price_y'],ascending=False)\n",
    "\n",
    "# # Rename columns and add formatting\n",
    "purchasing_panalysis = purchasing_panalysis.rename(columns={'Purchase ID':'Purchase Count','Price_x':'Average Purchase Price','Price_y':'Total Purchase Value'})\n",
    "format_df = {'Average Purchase Price':'${:.2f}','Total Purchase Value':'${:,.2f}'}\n",
    "\n",
    "# # Print\n",
    "purchasing_panalysis.head().style.format(format_df)"
   ]
  },
  {
   "cell_type": "code",
   "execution_count": null,
   "metadata": {},
   "outputs": [],
   "source": []
  },
  {
   "cell_type": "markdown",
   "metadata": {},
   "source": [
    "## Most Popular Items"
   ]
  },
  {
   "cell_type": "markdown",
   "metadata": {},
   "source": [
    "* Retrieve the Item ID, Item Name, and Item Price columns\n",
    "\n",
    "\n",
    "* Group by Item ID and Item Name. Perform calculations to obtain purchase count, item price, and total purchase value\n",
    "\n",
    "\n",
    "* Create a summary data frame to hold the results\n",
    "\n",
    "\n",
    "* Sort the purchase count column in descending order\n",
    "\n",
    "\n",
    "* Optional: give the displayed data cleaner formatting\n",
    "\n",
    "\n",
    "* Display a preview of the summary data frame\n",
    "\n"
   ]
  },
  {
   "cell_type": "code",
   "execution_count": 9,
   "metadata": {},
   "outputs": [
    {
     "data": {
      "text/html": "<style  type=\"text/css\" >\n</style><table id=\"T_6a9ff97e_5010_11ea_96dd_d6c14db29bc2\" ><thead>    <tr>        <th class=\"blank\" ></th>        <th class=\"blank level0\" ></th>        <th class=\"col_heading level0 col0\" >Purchase Count</th>        <th class=\"col_heading level0 col1\" >Average Purchase Price</th>        <th class=\"col_heading level0 col2\" >Total Purchase Value</th>    </tr>    <tr>        <th class=\"index_name level0\" >Item ID</th>        <th class=\"index_name level1\" >Item Name</th>        <th class=\"blank\" ></th>        <th class=\"blank\" ></th>        <th class=\"blank\" ></th>    </tr></thead><tbody>\n                <tr>\n                        <th id=\"T_6a9ff97e_5010_11ea_96dd_d6c14db29bc2level0_row0\" class=\"row_heading level0 row0\" >178</th>\n                        <th id=\"T_6a9ff97e_5010_11ea_96dd_d6c14db29bc2level1_row0\" class=\"row_heading level1 row0\" >Oathbreaker, Last Hope of the Breaking Storm</th>\n                        <td id=\"T_6a9ff97e_5010_11ea_96dd_d6c14db29bc2row0_col0\" class=\"data row0 col0\" >12</td>\n                        <td id=\"T_6a9ff97e_5010_11ea_96dd_d6c14db29bc2row0_col1\" class=\"data row0 col1\" >$4.23</td>\n                        <td id=\"T_6a9ff97e_5010_11ea_96dd_d6c14db29bc2row0_col2\" class=\"data row0 col2\" >$50.76</td>\n            </tr>\n            <tr>\n                        <th id=\"T_6a9ff97e_5010_11ea_96dd_d6c14db29bc2level0_row1\" class=\"row_heading level0 row1\" >82</th>\n                        <th id=\"T_6a9ff97e_5010_11ea_96dd_d6c14db29bc2level1_row1\" class=\"row_heading level1 row1\" >Nirvana</th>\n                        <td id=\"T_6a9ff97e_5010_11ea_96dd_d6c14db29bc2row1_col0\" class=\"data row1 col0\" >9</td>\n                        <td id=\"T_6a9ff97e_5010_11ea_96dd_d6c14db29bc2row1_col1\" class=\"data row1 col1\" >$4.90</td>\n                        <td id=\"T_6a9ff97e_5010_11ea_96dd_d6c14db29bc2row1_col2\" class=\"data row1 col2\" >$44.10</td>\n            </tr>\n            <tr>\n                        <th id=\"T_6a9ff97e_5010_11ea_96dd_d6c14db29bc2level0_row2\" class=\"row_heading level0 row2\" >145</th>\n                        <th id=\"T_6a9ff97e_5010_11ea_96dd_d6c14db29bc2level1_row2\" class=\"row_heading level1 row2\" >Fiery Glass Crusader</th>\n                        <td id=\"T_6a9ff97e_5010_11ea_96dd_d6c14db29bc2row2_col0\" class=\"data row2 col0\" >9</td>\n                        <td id=\"T_6a9ff97e_5010_11ea_96dd_d6c14db29bc2row2_col1\" class=\"data row2 col1\" >$4.58</td>\n                        <td id=\"T_6a9ff97e_5010_11ea_96dd_d6c14db29bc2row2_col2\" class=\"data row2 col2\" >$41.22</td>\n            </tr>\n            <tr>\n                        <th id=\"T_6a9ff97e_5010_11ea_96dd_d6c14db29bc2level0_row3\" class=\"row_heading level0 row3\" >92</th>\n                        <th id=\"T_6a9ff97e_5010_11ea_96dd_d6c14db29bc2level1_row3\" class=\"row_heading level1 row3\" >Final Critic</th>\n                        <td id=\"T_6a9ff97e_5010_11ea_96dd_d6c14db29bc2row3_col0\" class=\"data row3 col0\" >8</td>\n                        <td id=\"T_6a9ff97e_5010_11ea_96dd_d6c14db29bc2row3_col1\" class=\"data row3 col1\" >$4.88</td>\n                        <td id=\"T_6a9ff97e_5010_11ea_96dd_d6c14db29bc2row3_col2\" class=\"data row3 col2\" >$39.04</td>\n            </tr>\n            <tr>\n                        <th id=\"T_6a9ff97e_5010_11ea_96dd_d6c14db29bc2level0_row4\" class=\"row_heading level0 row4\" >103</th>\n                        <th id=\"T_6a9ff97e_5010_11ea_96dd_d6c14db29bc2level1_row4\" class=\"row_heading level1 row4\" >Singed Scalpel</th>\n                        <td id=\"T_6a9ff97e_5010_11ea_96dd_d6c14db29bc2row4_col0\" class=\"data row4 col0\" >8</td>\n                        <td id=\"T_6a9ff97e_5010_11ea_96dd_d6c14db29bc2row4_col1\" class=\"data row4 col1\" >$4.35</td>\n                        <td id=\"T_6a9ff97e_5010_11ea_96dd_d6c14db29bc2row4_col2\" class=\"data row4 col2\" >$34.80</td>\n            </tr>\n    </tbody></table>",
      "text/plain": "<pandas.io.formats.style.Styler at 0x188636b66c8>"
     },
     "execution_count": 9,
     "metadata": {},
     "output_type": "execute_result"
    }
   ],
   "source": [
    "# Basic calculation to obtain purchase count, average purchase price and total purchase value\n",
    "items_group = purchase_data.groupby(['Item ID','Item Name'])\n",
    "purchase_icount = items_group['Purchase ID'].nunique()\n",
    "ave_iprice = items_group['Price'].mean()\n",
    "total_irevenue = items_group['Price'].sum()\n",
    "\n",
    "# Merge all dataframes\n",
    "purchasing_ianalysis = pd.merge(pd.DataFrame(purchase_icount),pd.DataFrame(ave_iprice),on=['Item ID','Item Name'])\n",
    "purchasing_ianalysis = pd.merge(purchasing_ianalysis,pd.DataFrame(total_irevenue),on=['Item ID','Item Name']).sort_values(by=['Price_y'],ascending=False)\n",
    "purchasing_ianalysis\n",
    "# Rename columns and add formatting\n",
    "purchasing_ianalysis = purchasing_ianalysis.rename(columns={'Purchase ID':'Purchase Count','Price_x':'Average Purchase Price','Price_y':'Total Purchase Value'})\n",
    "format_df = {'Average Purchase Price':'${:.2f}','Total Purchase Value':'${:,.2f}'}\n",
    "\n",
    "# Print\n",
    "purchasing_ianalysis.head().style.format(format_df)"
   ]
  },
  {
   "cell_type": "markdown",
   "metadata": {},
   "source": [
    "## Most Profitable Items"
   ]
  },
  {
   "cell_type": "markdown",
   "metadata": {},
   "source": [
    "* Sort the above table by total purchase value in descending order\n",
    "\n",
    "\n",
    "* Optional: give the displayed data cleaner formatting\n",
    "\n",
    "\n",
    "* Display a preview of the data frame\n",
    "\n"
   ]
  },
  {
   "cell_type": "code",
   "execution_count": 10,
   "metadata": {},
   "outputs": [
    {
     "data": {
      "text/html": "<style  type=\"text/css\" >\n</style><table id=\"T_75b7479c_5010_11ea_9bd0_d6c14db29bc2\" ><thead>    <tr>        <th class=\"blank\" ></th>        <th class=\"blank level0\" ></th>        <th class=\"col_heading level0 col0\" >Purchase Count</th>        <th class=\"col_heading level0 col1\" >Average Purchase Price</th>        <th class=\"col_heading level0 col2\" >Total Purchase Value</th>    </tr>    <tr>        <th class=\"index_name level0\" >Item ID</th>        <th class=\"index_name level1\" >Item Name</th>        <th class=\"blank\" ></th>        <th class=\"blank\" ></th>        <th class=\"blank\" ></th>    </tr></thead><tbody>\n                <tr>\n                        <th id=\"T_75b7479c_5010_11ea_9bd0_d6c14db29bc2level0_row0\" class=\"row_heading level0 row0\" >178</th>\n                        <th id=\"T_75b7479c_5010_11ea_9bd0_d6c14db29bc2level1_row0\" class=\"row_heading level1 row0\" >Oathbreaker, Last Hope of the Breaking Storm</th>\n                        <td id=\"T_75b7479c_5010_11ea_9bd0_d6c14db29bc2row0_col0\" class=\"data row0 col0\" >12</td>\n                        <td id=\"T_75b7479c_5010_11ea_9bd0_d6c14db29bc2row0_col1\" class=\"data row0 col1\" >$4.23</td>\n                        <td id=\"T_75b7479c_5010_11ea_9bd0_d6c14db29bc2row0_col2\" class=\"data row0 col2\" >$50.76</td>\n            </tr>\n            <tr>\n                        <th id=\"T_75b7479c_5010_11ea_9bd0_d6c14db29bc2level0_row1\" class=\"row_heading level0 row1\" >82</th>\n                        <th id=\"T_75b7479c_5010_11ea_9bd0_d6c14db29bc2level1_row1\" class=\"row_heading level1 row1\" >Nirvana</th>\n                        <td id=\"T_75b7479c_5010_11ea_9bd0_d6c14db29bc2row1_col0\" class=\"data row1 col0\" >9</td>\n                        <td id=\"T_75b7479c_5010_11ea_9bd0_d6c14db29bc2row1_col1\" class=\"data row1 col1\" >$4.90</td>\n                        <td id=\"T_75b7479c_5010_11ea_9bd0_d6c14db29bc2row1_col2\" class=\"data row1 col2\" >$44.10</td>\n            </tr>\n            <tr>\n                        <th id=\"T_75b7479c_5010_11ea_9bd0_d6c14db29bc2level0_row2\" class=\"row_heading level0 row2\" >145</th>\n                        <th id=\"T_75b7479c_5010_11ea_9bd0_d6c14db29bc2level1_row2\" class=\"row_heading level1 row2\" >Fiery Glass Crusader</th>\n                        <td id=\"T_75b7479c_5010_11ea_9bd0_d6c14db29bc2row2_col0\" class=\"data row2 col0\" >9</td>\n                        <td id=\"T_75b7479c_5010_11ea_9bd0_d6c14db29bc2row2_col1\" class=\"data row2 col1\" >$4.58</td>\n                        <td id=\"T_75b7479c_5010_11ea_9bd0_d6c14db29bc2row2_col2\" class=\"data row2 col2\" >$41.22</td>\n            </tr>\n            <tr>\n                        <th id=\"T_75b7479c_5010_11ea_9bd0_d6c14db29bc2level0_row3\" class=\"row_heading level0 row3\" >92</th>\n                        <th id=\"T_75b7479c_5010_11ea_9bd0_d6c14db29bc2level1_row3\" class=\"row_heading level1 row3\" >Final Critic</th>\n                        <td id=\"T_75b7479c_5010_11ea_9bd0_d6c14db29bc2row3_col0\" class=\"data row3 col0\" >8</td>\n                        <td id=\"T_75b7479c_5010_11ea_9bd0_d6c14db29bc2row3_col1\" class=\"data row3 col1\" >$4.88</td>\n                        <td id=\"T_75b7479c_5010_11ea_9bd0_d6c14db29bc2row3_col2\" class=\"data row3 col2\" >$39.04</td>\n            </tr>\n            <tr>\n                        <th id=\"T_75b7479c_5010_11ea_9bd0_d6c14db29bc2level0_row4\" class=\"row_heading level0 row4\" >103</th>\n                        <th id=\"T_75b7479c_5010_11ea_9bd0_d6c14db29bc2level1_row4\" class=\"row_heading level1 row4\" >Singed Scalpel</th>\n                        <td id=\"T_75b7479c_5010_11ea_9bd0_d6c14db29bc2row4_col0\" class=\"data row4 col0\" >8</td>\n                        <td id=\"T_75b7479c_5010_11ea_9bd0_d6c14db29bc2row4_col1\" class=\"data row4 col1\" >$4.35</td>\n                        <td id=\"T_75b7479c_5010_11ea_9bd0_d6c14db29bc2row4_col2\" class=\"data row4 col2\" >$34.80</td>\n            </tr>\n    </tbody></table>",
      "text/plain": "<pandas.io.formats.style.Styler at 0x18862853f08>"
     },
     "execution_count": 10,
     "metadata": {},
     "output_type": "execute_result"
    }
   ],
   "source": [
    "# Print\n",
    "purchasing_ianalysis.head().style.format(format_df)"
   ]
  }
 ],
 "metadata": {
  "anaconda-cloud": {},
  "kernel_info": {
   "name": "python3"
  },
  "kernelspec": {
   "display_name": "Python 3.7.4 64-bit ('base': conda)",
   "language": "python",
   "name": "python37464bitbaseconda1f272b08825b44268b0b382f97a12fd9"
  },
  "language_info": {
   "codemirror_mode": {
    "name": "ipython",
    "version": 3
   },
   "file_extension": ".py",
   "mimetype": "text/x-python",
   "name": "python",
   "nbconvert_exporter": "python",
   "pygments_lexer": "ipython3",
   "version": "3.7.4-final"
  },
  "latex_envs": {
   "LaTeX_envs_menu_present": true,
   "autoclose": false,
   "autocomplete": true,
   "bibliofile": "biblio.bib",
   "cite_by": "apalike",
   "current_citInitial": 1,
   "eqLabelWithNumbers": true,
   "eqNumInitial": 1,
   "hotkeys": {
    "equation": "Ctrl-E",
    "itemize": "Ctrl-I"
   },
   "labels_anchors": false,
   "latex_user_defs": false,
   "report_style_numbering": false,
   "user_envs_cfg": false
  },
  "nteract": {
   "version": "0.2.0"
  }
 },
 "nbformat": 4,
 "nbformat_minor": 2
}